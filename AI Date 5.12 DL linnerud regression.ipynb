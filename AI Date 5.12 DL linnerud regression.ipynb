{
 "cells": [
  {
   "cell_type": "code",
   "execution_count": 69,
   "id": "65213773",
   "metadata": {},
   "outputs": [],
   "source": [
    "import matplotlib.pyplot as plt\n",
    "import numpy as np\n",
    "import pandas as pd\n",
    "import seaborn as sns\n",
    "import warnings\n",
    "warnings.filterwarnings('ignore')\n",
    "from sklearn.model_selection import train_test_split\n",
    "from sklearn.linear_model import LinearRegression\n",
    "from sklearn.metrics import mean_squared_error, r2_score\n",
    "from sklearn import metrics\n",
    "import tensorflow as tf\n",
    "from tensorflow import keras\n",
    "from tensorflow.keras import layers"
   ]
  },
  {
   "cell_type": "code",
   "execution_count": 70,
   "id": "5a53c1a3",
   "metadata": {},
   "outputs": [],
   "source": [
    "from sklearn.datasets import load_linnerud\n",
    "linnerud = load_linnerud()"
   ]
  },
  {
   "cell_type": "code",
   "execution_count": 71,
   "id": "2bab4c03",
   "metadata": {},
   "outputs": [
    {
     "data": {
      "text/plain": [
       "{'data': array([[  5., 162.,  60.],\n",
       "        [  2., 110.,  60.],\n",
       "        [ 12., 101., 101.],\n",
       "        [ 12., 105.,  37.],\n",
       "        [ 13., 155.,  58.],\n",
       "        [  4., 101.,  42.],\n",
       "        [  8., 101.,  38.],\n",
       "        [  6., 125.,  40.],\n",
       "        [ 15., 200.,  40.],\n",
       "        [ 17., 251., 250.],\n",
       "        [ 17., 120.,  38.],\n",
       "        [ 13., 210., 115.],\n",
       "        [ 14., 215., 105.],\n",
       "        [  1.,  50.,  50.],\n",
       "        [  6.,  70.,  31.],\n",
       "        [ 12., 210., 120.],\n",
       "        [  4.,  60.,  25.],\n",
       "        [ 11., 230.,  80.],\n",
       "        [ 15., 225.,  73.],\n",
       "        [  2., 110.,  43.]]),\n",
       " 'feature_names': ['Chins', 'Situps', 'Jumps'],\n",
       " 'target': array([[191.,  36.,  50.],\n",
       "        [189.,  37.,  52.],\n",
       "        [193.,  38.,  58.],\n",
       "        [162.,  35.,  62.],\n",
       "        [189.,  35.,  46.],\n",
       "        [182.,  36.,  56.],\n",
       "        [211.,  38.,  56.],\n",
       "        [167.,  34.,  60.],\n",
       "        [176.,  31.,  74.],\n",
       "        [154.,  33.,  56.],\n",
       "        [169.,  34.,  50.],\n",
       "        [166.,  33.,  52.],\n",
       "        [154.,  34.,  64.],\n",
       "        [247.,  46.,  50.],\n",
       "        [193.,  36.,  46.],\n",
       "        [202.,  37.,  62.],\n",
       "        [176.,  37.,  54.],\n",
       "        [157.,  32.,  52.],\n",
       "        [156.,  33.,  54.],\n",
       "        [138.,  33.,  68.]]),\n",
       " 'target_names': ['Weight', 'Waist', 'Pulse'],\n",
       " 'frame': None,\n",
       " 'DESCR': '.. _linnerrud_dataset:\\n\\nLinnerrud dataset\\n-----------------\\n\\n**Data Set Characteristics:**\\n\\n    :Number of Instances: 20\\n    :Number of Attributes: 3\\n    :Missing Attribute Values: None\\n\\nThe Linnerud dataset is a multi-output regression dataset. It consists of three\\nexercise (data) and three physiological (target) variables collected from\\ntwenty middle-aged men in a fitness club:\\n\\n- *physiological* - CSV containing 20 observations on 3 physiological variables:\\n   Weight, Waist and Pulse.\\n- *exercise* - CSV containing 20 observations on 3 exercise variables:\\n   Chins, Situps and Jumps.\\n\\n.. topic:: References\\n\\n  * Tenenhaus, M. (1998). La regression PLS: theorie et pratique. Paris:\\n    Editions Technic.\\n',\n",
       " 'data_filename': 'linnerud_exercise.csv',\n",
       " 'target_filename': 'linnerud_physiological.csv',\n",
       " 'data_module': 'sklearn.datasets.data'}"
      ]
     },
     "execution_count": 71,
     "metadata": {},
     "output_type": "execute_result"
    }
   ],
   "source": [
    "linnerud"
   ]
  },
  {
   "cell_type": "code",
   "execution_count": 72,
   "id": "e342e8ce",
   "metadata": {},
   "outputs": [
    {
     "data": {
      "text/html": [
       "<div>\n",
       "<style scoped>\n",
       "    .dataframe tbody tr th:only-of-type {\n",
       "        vertical-align: middle;\n",
       "    }\n",
       "\n",
       "    .dataframe tbody tr th {\n",
       "        vertical-align: top;\n",
       "    }\n",
       "\n",
       "    .dataframe thead th {\n",
       "        text-align: right;\n",
       "    }\n",
       "</style>\n",
       "<table border=\"1\" class=\"dataframe\">\n",
       "  <thead>\n",
       "    <tr style=\"text-align: right;\">\n",
       "      <th></th>\n",
       "      <th>Chins</th>\n",
       "      <th>Situps</th>\n",
       "      <th>Jumps</th>\n",
       "      <th>Weight</th>\n",
       "      <th>Waist</th>\n",
       "      <th>Pulse</th>\n",
       "    </tr>\n",
       "  </thead>\n",
       "  <tbody>\n",
       "    <tr>\n",
       "      <th>15</th>\n",
       "      <td>12.0</td>\n",
       "      <td>210.0</td>\n",
       "      <td>120.0</td>\n",
       "      <td>202.0</td>\n",
       "      <td>37.0</td>\n",
       "      <td>62.0</td>\n",
       "    </tr>\n",
       "    <tr>\n",
       "      <th>16</th>\n",
       "      <td>4.0</td>\n",
       "      <td>60.0</td>\n",
       "      <td>25.0</td>\n",
       "      <td>176.0</td>\n",
       "      <td>37.0</td>\n",
       "      <td>54.0</td>\n",
       "    </tr>\n",
       "    <tr>\n",
       "      <th>17</th>\n",
       "      <td>11.0</td>\n",
       "      <td>230.0</td>\n",
       "      <td>80.0</td>\n",
       "      <td>157.0</td>\n",
       "      <td>32.0</td>\n",
       "      <td>52.0</td>\n",
       "    </tr>\n",
       "    <tr>\n",
       "      <th>18</th>\n",
       "      <td>15.0</td>\n",
       "      <td>225.0</td>\n",
       "      <td>73.0</td>\n",
       "      <td>156.0</td>\n",
       "      <td>33.0</td>\n",
       "      <td>54.0</td>\n",
       "    </tr>\n",
       "    <tr>\n",
       "      <th>19</th>\n",
       "      <td>2.0</td>\n",
       "      <td>110.0</td>\n",
       "      <td>43.0</td>\n",
       "      <td>138.0</td>\n",
       "      <td>33.0</td>\n",
       "      <td>68.0</td>\n",
       "    </tr>\n",
       "  </tbody>\n",
       "</table>\n",
       "</div>"
      ],
      "text/plain": [
       "    Chins  Situps  Jumps  Weight  Waist  Pulse\n",
       "15   12.0   210.0  120.0   202.0   37.0   62.0\n",
       "16    4.0    60.0   25.0   176.0   37.0   54.0\n",
       "17   11.0   230.0   80.0   157.0   32.0   52.0\n",
       "18   15.0   225.0   73.0   156.0   33.0   54.0\n",
       "19    2.0   110.0   43.0   138.0   33.0   68.0"
      ]
     },
     "execution_count": 72,
     "metadata": {},
     "output_type": "execute_result"
    }
   ],
   "source": [
    "df = pd.concat([pd.DataFrame(linnerud.data, columns=linnerud.feature_names),\n",
    "                pd.DataFrame(linnerud.target, columns=linnerud.target_names)],\n",
    "               axis=1)\n",
    "df.tail()"
   ]
  },
  {
   "cell_type": "code",
   "execution_count": 73,
   "id": "3d3022c4",
   "metadata": {},
   "outputs": [
    {
     "data": {
      "text/html": [
       "<div>\n",
       "<style scoped>\n",
       "    .dataframe tbody tr th:only-of-type {\n",
       "        vertical-align: middle;\n",
       "    }\n",
       "\n",
       "    .dataframe tbody tr th {\n",
       "        vertical-align: top;\n",
       "    }\n",
       "\n",
       "    .dataframe thead th {\n",
       "        text-align: right;\n",
       "    }\n",
       "</style>\n",
       "<table border=\"1\" class=\"dataframe\">\n",
       "  <thead>\n",
       "    <tr style=\"text-align: right;\">\n",
       "      <th></th>\n",
       "      <th>Chins</th>\n",
       "      <th>Situps</th>\n",
       "      <th>Jumps</th>\n",
       "      <th>Weight</th>\n",
       "      <th>Waist</th>\n",
       "      <th>Pulse</th>\n",
       "    </tr>\n",
       "  </thead>\n",
       "  <tbody>\n",
       "    <tr>\n",
       "      <th>0</th>\n",
       "      <td>5.0</td>\n",
       "      <td>162.0</td>\n",
       "      <td>60.0</td>\n",
       "      <td>191.0</td>\n",
       "      <td>36.0</td>\n",
       "      <td>50.0</td>\n",
       "    </tr>\n",
       "    <tr>\n",
       "      <th>1</th>\n",
       "      <td>2.0</td>\n",
       "      <td>110.0</td>\n",
       "      <td>60.0</td>\n",
       "      <td>189.0</td>\n",
       "      <td>37.0</td>\n",
       "      <td>52.0</td>\n",
       "    </tr>\n",
       "    <tr>\n",
       "      <th>2</th>\n",
       "      <td>12.0</td>\n",
       "      <td>101.0</td>\n",
       "      <td>101.0</td>\n",
       "      <td>193.0</td>\n",
       "      <td>38.0</td>\n",
       "      <td>58.0</td>\n",
       "    </tr>\n",
       "    <tr>\n",
       "      <th>3</th>\n",
       "      <td>12.0</td>\n",
       "      <td>105.0</td>\n",
       "      <td>37.0</td>\n",
       "      <td>162.0</td>\n",
       "      <td>35.0</td>\n",
       "      <td>62.0</td>\n",
       "    </tr>\n",
       "    <tr>\n",
       "      <th>4</th>\n",
       "      <td>13.0</td>\n",
       "      <td>155.0</td>\n",
       "      <td>58.0</td>\n",
       "      <td>189.0</td>\n",
       "      <td>35.0</td>\n",
       "      <td>46.0</td>\n",
       "    </tr>\n",
       "  </tbody>\n",
       "</table>\n",
       "</div>"
      ],
      "text/plain": [
       "   Chins  Situps  Jumps  Weight  Waist  Pulse\n",
       "0    5.0   162.0   60.0   191.0   36.0   50.0\n",
       "1    2.0   110.0   60.0   189.0   37.0   52.0\n",
       "2   12.0   101.0  101.0   193.0   38.0   58.0\n",
       "3   12.0   105.0   37.0   162.0   35.0   62.0\n",
       "4   13.0   155.0   58.0   189.0   35.0   46.0"
      ]
     },
     "execution_count": 73,
     "metadata": {},
     "output_type": "execute_result"
    }
   ],
   "source": [
    "df.head()"
   ]
  },
  {
   "cell_type": "code",
   "execution_count": 74,
   "id": "cfc066cf",
   "metadata": {},
   "outputs": [
    {
     "data": {
      "text/plain": [
       "Index(['Chins', 'Situps', 'Jumps', 'Weight', 'Waist', 'Pulse'], dtype='object')"
      ]
     },
     "execution_count": 74,
     "metadata": {},
     "output_type": "execute_result"
    }
   ],
   "source": [
    "df.columns"
   ]
  },
  {
   "cell_type": "code",
   "execution_count": 75,
   "id": "ce73e71a",
   "metadata": {},
   "outputs": [
    {
     "data": {
      "text/plain": [
       "Chins     0\n",
       "Situps    0\n",
       "Jumps     0\n",
       "Weight    0\n",
       "Waist     0\n",
       "Pulse     0\n",
       "dtype: int64"
      ]
     },
     "execution_count": 75,
     "metadata": {},
     "output_type": "execute_result"
    }
   ],
   "source": [
    "df.isna().sum()"
   ]
  },
  {
   "cell_type": "code",
   "execution_count": 76,
   "id": "5e80eec0",
   "metadata": {},
   "outputs": [
    {
     "data": {
      "text/html": [
       "<div>\n",
       "<style scoped>\n",
       "    .dataframe tbody tr th:only-of-type {\n",
       "        vertical-align: middle;\n",
       "    }\n",
       "\n",
       "    .dataframe tbody tr th {\n",
       "        vertical-align: top;\n",
       "    }\n",
       "\n",
       "    .dataframe thead th {\n",
       "        text-align: right;\n",
       "    }\n",
       "</style>\n",
       "<table border=\"1\" class=\"dataframe\">\n",
       "  <thead>\n",
       "    <tr style=\"text-align: right;\">\n",
       "      <th></th>\n",
       "      <th>Chins</th>\n",
       "      <th>Situps</th>\n",
       "      <th>Jumps</th>\n",
       "      <th>Pulse</th>\n",
       "    </tr>\n",
       "  </thead>\n",
       "  <tbody>\n",
       "    <tr>\n",
       "      <th>0</th>\n",
       "      <td>5.0</td>\n",
       "      <td>162.0</td>\n",
       "      <td>60.0</td>\n",
       "      <td>50.0</td>\n",
       "    </tr>\n",
       "    <tr>\n",
       "      <th>1</th>\n",
       "      <td>2.0</td>\n",
       "      <td>110.0</td>\n",
       "      <td>60.0</td>\n",
       "      <td>52.0</td>\n",
       "    </tr>\n",
       "    <tr>\n",
       "      <th>2</th>\n",
       "      <td>12.0</td>\n",
       "      <td>101.0</td>\n",
       "      <td>101.0</td>\n",
       "      <td>58.0</td>\n",
       "    </tr>\n",
       "    <tr>\n",
       "      <th>3</th>\n",
       "      <td>12.0</td>\n",
       "      <td>105.0</td>\n",
       "      <td>37.0</td>\n",
       "      <td>62.0</td>\n",
       "    </tr>\n",
       "    <tr>\n",
       "      <th>4</th>\n",
       "      <td>13.0</td>\n",
       "      <td>155.0</td>\n",
       "      <td>58.0</td>\n",
       "      <td>46.0</td>\n",
       "    </tr>\n",
       "  </tbody>\n",
       "</table>\n",
       "</div>"
      ],
      "text/plain": [
       "   Chins  Situps  Jumps  Pulse\n",
       "0    5.0   162.0   60.0   50.0\n",
       "1    2.0   110.0   60.0   52.0\n",
       "2   12.0   101.0  101.0   58.0\n",
       "3   12.0   105.0   37.0   62.0\n",
       "4   13.0   155.0   58.0   46.0"
      ]
     },
     "execution_count": 76,
     "metadata": {},
     "output_type": "execute_result"
    }
   ],
   "source": [
    "X=df.drop(['Weight', 'Waist'], axis=1)\n",
    "X.head()"
   ]
  },
  {
   "cell_type": "code",
   "execution_count": 77,
   "id": "b6aa4c7a",
   "metadata": {},
   "outputs": [
    {
     "data": {
      "text/plain": [
       "0    50.0\n",
       "1    52.0\n",
       "2    58.0\n",
       "3    62.0\n",
       "4    46.0\n",
       "Name: Pulse, dtype: float64"
      ]
     },
     "execution_count": 77,
     "metadata": {},
     "output_type": "execute_result"
    }
   ],
   "source": [
    "y = df['Pulse']\n",
    "y.head()"
   ]
  },
  {
   "cell_type": "code",
   "execution_count": 78,
   "id": "e61c1011",
   "metadata": {},
   "outputs": [],
   "source": [
    "from sklearn.model_selection import train_test_split\n",
    "\n",
    "X_train, X_test, y_train, y_test = train_test_split(X, y,test_size=0.25,random_state=42)"
   ]
  },
  {
   "cell_type": "code",
   "execution_count": 79,
   "id": "db087ee2",
   "metadata": {},
   "outputs": [
    {
     "name": "stdout",
     "output_type": "stream",
     "text": [
      "Model: \"sequential_8\"\n",
      "_________________________________________________________________\n",
      " Layer (type)                Output Shape              Param #   \n",
      "=================================================================\n",
      " dense_24 (Dense)            (None, 20)                100       \n",
      "                                                                 \n",
      " dense_25 (Dense)            (None, 10)                210       \n",
      "                                                                 \n",
      " dense_26 (Dense)            (None, 1)                 11        \n",
      "                                                                 \n",
      "=================================================================\n",
      "Total params: 321\n",
      "Trainable params: 321\n",
      "Non-trainable params: 0\n",
      "_________________________________________________________________\n"
     ]
    }
   ],
   "source": [
    "from tensorflow.keras.models import Sequential\n",
    "from tensorflow.keras.layers import Dense\n",
    "\n",
    "model = Sequential()\n",
    "model.add(Dense(20, activation = 'relu', input_shape = (4,)))\n",
    "model.add(Dense(10, activation = 'relu'))\n",
    "model.add(Dense(1)) \n",
    "model.compile(optimizer = 'rmsprop', loss = 'mse', metrics = ['mse'])\n",
    "\n",
    "model.summary()"
   ]
  },
  {
   "cell_type": "code",
   "execution_count": 80,
   "id": "4e72e19b",
   "metadata": {
    "scrolled": false
   },
   "outputs": [
    {
     "name": "stdout",
     "output_type": "stream",
     "text": [
      "Epoch 1/100\n",
      "1/1 [==============================] - 1s 921ms/step - loss: 1611.5643 - mse: 1611.5643 - val_loss: 1558.2539 - val_mse: 1558.2539\n",
      "Epoch 2/100\n",
      "1/1 [==============================] - 0s 68ms/step - loss: 1266.4031 - mse: 1266.4031 - val_loss: 1264.4869 - val_mse: 1264.4869\n",
      "Epoch 3/100\n",
      "1/1 [==============================] - 0s 63ms/step - loss: 1069.1461 - mse: 1069.1461 - val_loss: 1055.7181 - val_mse: 1055.7181\n",
      "Epoch 4/100\n",
      "1/1 [==============================] - 0s 115ms/step - loss: 931.4312 - mse: 931.4312 - val_loss: 895.6058 - val_mse: 895.6058\n",
      "Epoch 5/100\n",
      "1/1 [==============================] - 0s 110ms/step - loss: 827.0533 - mse: 827.0533 - val_loss: 767.6204 - val_mse: 767.6204\n",
      "Epoch 6/100\n",
      "1/1 [==============================] - 0s 58ms/step - loss: 744.0455 - mse: 744.0455 - val_loss: 662.0435 - val_mse: 662.0435\n",
      "Epoch 7/100\n",
      "1/1 [==============================] - 0s 47ms/step - loss: 676.0324 - mse: 676.0324 - val_loss: 573.8433 - val_mse: 573.8433\n",
      "Epoch 8/100\n",
      "1/1 [==============================] - 0s 43ms/step - loss: 619.3145 - mse: 619.3145 - val_loss: 499.9149 - val_mse: 499.9149\n",
      "Epoch 9/100\n",
      "1/1 [==============================] - 0s 43ms/step - loss: 571.4173 - mse: 571.4173 - val_loss: 437.4691 - val_mse: 437.4691\n",
      "Epoch 10/100\n",
      "1/1 [==============================] - 0s 47ms/step - loss: 530.5247 - mse: 530.5247 - val_loss: 384.5621 - val_mse: 384.5621\n",
      "Epoch 11/100\n",
      "1/1 [==============================] - 0s 47ms/step - loss: 495.3538 - mse: 495.3538 - val_loss: 339.4868 - val_mse: 339.4868\n",
      "Epoch 12/100\n",
      "1/1 [==============================] - 0s 46ms/step - loss: 464.7303 - mse: 464.7303 - val_loss: 301.1442 - val_mse: 301.1442\n",
      "Epoch 13/100\n",
      "1/1 [==============================] - 0s 51ms/step - loss: 438.0410 - mse: 438.0410 - val_loss: 268.5107 - val_mse: 268.5107\n",
      "Epoch 14/100\n",
      "1/1 [==============================] - 0s 67ms/step - loss: 414.7787 - mse: 414.7787 - val_loss: 240.9964 - val_mse: 240.9964\n",
      "Epoch 15/100\n",
      "1/1 [==============================] - 0s 53ms/step - loss: 394.8875 - mse: 394.8875 - val_loss: 217.5987 - val_mse: 217.5987\n",
      "Epoch 16/100\n",
      "1/1 [==============================] - 0s 48ms/step - loss: 376.5412 - mse: 376.5412 - val_loss: 197.4393 - val_mse: 197.4393\n",
      "Epoch 17/100\n",
      "1/1 [==============================] - 0s 58ms/step - loss: 359.8846 - mse: 359.8846 - val_loss: 179.8868 - val_mse: 179.8868\n",
      "Epoch 18/100\n",
      "1/1 [==============================] - 0s 51ms/step - loss: 344.6662 - mse: 344.6662 - val_loss: 164.5867 - val_mse: 164.5867\n",
      "Epoch 19/100\n",
      "1/1 [==============================] - 0s 56ms/step - loss: 330.7627 - mse: 330.7627 - val_loss: 150.9330 - val_mse: 150.9330\n",
      "Epoch 20/100\n",
      "1/1 [==============================] - 0s 47ms/step - loss: 317.9146 - mse: 317.9146 - val_loss: 138.7366 - val_mse: 138.7366\n",
      "Epoch 21/100\n",
      "1/1 [==============================] - 0s 42ms/step - loss: 305.8372 - mse: 305.8372 - val_loss: 127.6968 - val_mse: 127.6968\n",
      "Epoch 22/100\n",
      "1/1 [==============================] - 0s 43ms/step - loss: 294.4228 - mse: 294.4228 - val_loss: 117.6352 - val_mse: 117.6352\n",
      "Epoch 23/100\n",
      "1/1 [==============================] - 0s 46ms/step - loss: 283.5236 - mse: 283.5236 - val_loss: 108.4107 - val_mse: 108.4107\n",
      "Epoch 24/100\n",
      "1/1 [==============================] - 0s 51ms/step - loss: 272.9778 - mse: 272.9778 - val_loss: 99.7835 - val_mse: 99.7835\n",
      "Epoch 25/100\n",
      "1/1 [==============================] - 0s 44ms/step - loss: 262.6991 - mse: 262.6991 - val_loss: 92.0149 - val_mse: 92.0149\n",
      "Epoch 26/100\n",
      "1/1 [==============================] - 0s 42ms/step - loss: 252.7259 - mse: 252.7259 - val_loss: 85.0550 - val_mse: 85.0550\n",
      "Epoch 27/100\n",
      "1/1 [==============================] - 0s 51ms/step - loss: 243.0340 - mse: 243.0340 - val_loss: 79.6515 - val_mse: 79.6515\n",
      "Epoch 28/100\n",
      "1/1 [==============================] - 0s 48ms/step - loss: 233.8264 - mse: 233.8264 - val_loss: 74.8160 - val_mse: 74.8160\n",
      "Epoch 29/100\n",
      "1/1 [==============================] - 0s 55ms/step - loss: 225.0044 - mse: 225.0044 - val_loss: 71.2196 - val_mse: 71.2196\n",
      "Epoch 30/100\n",
      "1/1 [==============================] - 0s 46ms/step - loss: 216.3885 - mse: 216.3885 - val_loss: 68.1629 - val_mse: 68.1629\n",
      "Epoch 31/100\n",
      "1/1 [==============================] - 0s 39ms/step - loss: 207.9602 - mse: 207.9602 - val_loss: 65.3225 - val_mse: 65.3225\n",
      "Epoch 32/100\n",
      "1/1 [==============================] - 0s 51ms/step - loss: 199.7148 - mse: 199.7148 - val_loss: 62.7395 - val_mse: 62.7395\n",
      "Epoch 33/100\n",
      "1/1 [==============================] - 0s 69ms/step - loss: 191.6933 - mse: 191.6933 - val_loss: 60.3258 - val_mse: 60.3258\n",
      "Epoch 34/100\n",
      "1/1 [==============================] - 0s 61ms/step - loss: 183.9007 - mse: 183.9007 - val_loss: 58.0696 - val_mse: 58.0696\n",
      "Epoch 35/100\n",
      "1/1 [==============================] - 0s 55ms/step - loss: 176.2832 - mse: 176.2832 - val_loss: 55.9500 - val_mse: 55.9500\n",
      "Epoch 36/100\n",
      "1/1 [==============================] - 0s 41ms/step - loss: 169.2728 - mse: 169.2728 - val_loss: 52.7967 - val_mse: 52.7967\n",
      "Epoch 37/100\n",
      "1/1 [==============================] - 0s 57ms/step - loss: 162.9124 - mse: 162.9124 - val_loss: 50.2046 - val_mse: 50.2046\n",
      "Epoch 38/100\n",
      "1/1 [==============================] - 0s 48ms/step - loss: 156.7620 - mse: 156.7620 - val_loss: 47.5914 - val_mse: 47.5914\n",
      "Epoch 39/100\n",
      "1/1 [==============================] - 0s 42ms/step - loss: 150.9743 - mse: 150.9743 - val_loss: 45.3574 - val_mse: 45.3574\n",
      "Epoch 40/100\n",
      "1/1 [==============================] - 0s 40ms/step - loss: 145.3882 - mse: 145.3882 - val_loss: 43.0515 - val_mse: 43.0515\n",
      "Epoch 41/100\n",
      "1/1 [==============================] - 0s 55ms/step - loss: 140.0015 - mse: 140.0015 - val_loss: 41.0977 - val_mse: 41.0977\n",
      "Epoch 42/100\n",
      "1/1 [==============================] - 0s 51ms/step - loss: 134.7874 - mse: 134.7874 - val_loss: 39.0202 - val_mse: 39.0202\n",
      "Epoch 43/100\n",
      "1/1 [==============================] - 0s 49ms/step - loss: 129.7541 - mse: 129.7541 - val_loss: 37.2327 - val_mse: 37.2327\n",
      "Epoch 44/100\n",
      "1/1 [==============================] - 0s 49ms/step - loss: 124.8517 - mse: 124.8517 - val_loss: 35.6186 - val_mse: 35.6186\n",
      "Epoch 45/100\n",
      "1/1 [==============================] - 0s 52ms/step - loss: 120.1101 - mse: 120.1101 - val_loss: 34.1107 - val_mse: 34.1107\n",
      "Epoch 46/100\n",
      "1/1 [==============================] - 0s 47ms/step - loss: 115.5038 - mse: 115.5038 - val_loss: 32.6124 - val_mse: 32.6124\n",
      "Epoch 47/100\n",
      "1/1 [==============================] - 0s 55ms/step - loss: 111.0386 - mse: 111.0386 - val_loss: 31.2794 - val_mse: 31.2794\n",
      "Epoch 48/100\n",
      "1/1 [==============================] - 0s 57ms/step - loss: 106.6788 - mse: 106.6788 - val_loss: 30.0314 - val_mse: 30.0314\n",
      "Epoch 49/100\n",
      "1/1 [==============================] - 0s 51ms/step - loss: 102.4194 - mse: 102.4194 - val_loss: 28.8493 - val_mse: 28.8493\n",
      "Epoch 50/100\n",
      "1/1 [==============================] - 0s 47ms/step - loss: 98.2590 - mse: 98.2590 - val_loss: 27.7255 - val_mse: 27.7255\n",
      "Epoch 51/100\n",
      "1/1 [==============================] - 0s 46ms/step - loss: 94.1976 - mse: 94.1976 - val_loss: 26.6551 - val_mse: 26.6551\n",
      "Epoch 52/100\n",
      "1/1 [==============================] - 0s 46ms/step - loss: 90.2352 - mse: 90.2352 - val_loss: 25.6345 - val_mse: 25.6345\n",
      "Epoch 53/100\n",
      "1/1 [==============================] - 0s 40ms/step - loss: 86.3727 - mse: 86.3727 - val_loss: 24.6603 - val_mse: 24.6603\n",
      "Epoch 54/100\n",
      "1/1 [==============================] - 0s 47ms/step - loss: 82.6395 - mse: 82.6395 - val_loss: 23.7185 - val_mse: 23.7185\n",
      "Epoch 55/100\n",
      "1/1 [==============================] - 0s 53ms/step - loss: 79.0183 - mse: 79.0183 - val_loss: 22.8232 - val_mse: 22.8232\n",
      "Epoch 56/100\n",
      "1/1 [==============================] - 0s 52ms/step - loss: 75.4995 - mse: 75.4995 - val_loss: 21.9652 - val_mse: 21.9652\n",
      "Epoch 57/100\n",
      "1/1 [==============================] - 0s 47ms/step - loss: 72.0837 - mse: 72.0837 - val_loss: 21.1359 - val_mse: 21.1359\n",
      "Epoch 58/100\n",
      "1/1 [==============================] - 0s 49ms/step - loss: 68.7906 - mse: 68.7906 - val_loss: 20.3373 - val_mse: 20.3373\n",
      "Epoch 59/100\n",
      "1/1 [==============================] - 0s 41ms/step - loss: 65.6402 - mse: 65.6402 - val_loss: 19.6560 - val_mse: 19.6560\n",
      "Epoch 60/100\n",
      "1/1 [==============================] - 0s 54ms/step - loss: 62.6164 - mse: 62.6164 - val_loss: 18.7535 - val_mse: 18.7535\n",
      "Epoch 61/100\n",
      "1/1 [==============================] - 0s 47ms/step - loss: 59.7200 - mse: 59.7200 - val_loss: 18.2199 - val_mse: 18.2199\n",
      "Epoch 62/100\n",
      "1/1 [==============================] - 0s 46ms/step - loss: 56.8744 - mse: 56.8744 - val_loss: 17.3824 - val_mse: 17.3824\n",
      "Epoch 63/100\n",
      "1/1 [==============================] - 0s 44ms/step - loss: 54.1448 - mse: 54.1448 - val_loss: 16.7214 - val_mse: 16.7214\n",
      "Epoch 64/100\n",
      "1/1 [==============================] - 0s 44ms/step - loss: 51.5135 - mse: 51.5135 - val_loss: 15.9904 - val_mse: 15.9904\n",
      "Epoch 65/100\n",
      "1/1 [==============================] - 0s 52ms/step - loss: 48.9826 - mse: 48.9826 - val_loss: 15.3004 - val_mse: 15.3004\n",
      "Epoch 66/100\n",
      "1/1 [==============================] - 0s 49ms/step - loss: 46.5450 - mse: 46.5450 - val_loss: 14.5930 - val_mse: 14.5930\n",
      "Epoch 67/100\n",
      "1/1 [==============================] - 0s 55ms/step - loss: 44.1934 - mse: 44.1934 - val_loss: 13.9114 - val_mse: 13.9114\n",
      "Epoch 68/100\n",
      "1/1 [==============================] - 0s 56ms/step - loss: 41.9256 - mse: 41.9256 - val_loss: 13.2207 - val_mse: 13.2207\n",
      "Epoch 69/100\n",
      "1/1 [==============================] - 0s 51ms/step - loss: 39.7398 - mse: 39.7398 - val_loss: 12.5504 - val_mse: 12.5504\n",
      "Epoch 70/100\n",
      "1/1 [==============================] - 0s 54ms/step - loss: 37.6345 - mse: 37.6345 - val_loss: 11.8730 - val_mse: 11.8730\n",
      "Epoch 71/100\n",
      "1/1 [==============================] - 0s 46ms/step - loss: 35.6082 - mse: 35.6082 - val_loss: 11.2180 - val_mse: 11.2180\n",
      "Epoch 72/100\n",
      "1/1 [==============================] - 0s 56ms/step - loss: 33.6592 - mse: 33.6592 - val_loss: 10.5543 - val_mse: 10.5543\n",
      "Epoch 73/100\n",
      "1/1 [==============================] - 0s 47ms/step - loss: 31.7867 - mse: 31.7867 - val_loss: 9.9458 - val_mse: 9.9458\n",
      "Epoch 74/100\n",
      "1/1 [==============================] - 0s 52ms/step - loss: 29.9909 - mse: 29.9909 - val_loss: 9.2801 - val_mse: 9.2801\n",
      "Epoch 75/100\n",
      "1/1 [==============================] - 0s 46ms/step - loss: 28.2672 - mse: 28.2672 - val_loss: 8.7081 - val_mse: 8.7081\n",
      "Epoch 76/100\n",
      "1/1 [==============================] - 0s 45ms/step - loss: 26.6223 - mse: 26.6223 - val_loss: 8.0472 - val_mse: 8.0472\n",
      "Epoch 77/100\n",
      "1/1 [==============================] - 0s 58ms/step - loss: 25.0468 - mse: 25.0468 - val_loss: 7.6133 - val_mse: 7.6133\n",
      "Epoch 78/100\n",
      "1/1 [==============================] - 0s 65ms/step - loss: 23.5601 - mse: 23.5601 - val_loss: 6.8693 - val_mse: 6.8693\n",
      "Epoch 79/100\n",
      "1/1 [==============================] - 0s 56ms/step - loss: 22.1445 - mse: 22.1445 - val_loss: 6.8382 - val_mse: 6.8382\n",
      "Epoch 80/100\n",
      "1/1 [==============================] - 0s 50ms/step - loss: 20.8290 - mse: 20.8290 - val_loss: 5.7722 - val_mse: 5.7722\n",
      "Epoch 81/100\n",
      "1/1 [==============================] - 0s 51ms/step - loss: 19.7556 - mse: 19.7556 - val_loss: 8.5035 - val_mse: 8.5035\n",
      "Epoch 82/100\n",
      "1/1 [==============================] - 0s 46ms/step - loss: 19.6200 - mse: 19.6200 - val_loss: 8.6534 - val_mse: 8.6534\n",
      "Epoch 83/100\n",
      "1/1 [==============================] - 0s 46ms/step - loss: 21.2040 - mse: 21.2040 - val_loss: 13.7696 - val_mse: 13.7696\n",
      "Epoch 84/100\n",
      "1/1 [==============================] - 0s 41ms/step - loss: 21.4852 - mse: 21.4852 - val_loss: 7.1419 - val_mse: 7.1419\n",
      "Epoch 85/100\n",
      "1/1 [==============================] - 0s 55ms/step - loss: 18.7132 - mse: 18.7132 - val_loss: 7.0034 - val_mse: 7.0034\n",
      "Epoch 86/100\n",
      "1/1 [==============================] - 0s 49ms/step - loss: 16.3912 - mse: 16.3912 - val_loss: 4.2815 - val_mse: 4.2815\n",
      "Epoch 87/100\n",
      "1/1 [==============================] - 0s 44ms/step - loss: 14.9929 - mse: 14.9929 - val_loss: 4.5270 - val_mse: 4.5270\n",
      "Epoch 88/100\n",
      "1/1 [==============================] - 0s 58ms/step - loss: 14.0358 - mse: 14.0358 - val_loss: 3.5123 - val_mse: 3.5123\n",
      "Epoch 89/100\n",
      "1/1 [==============================] - 0s 49ms/step - loss: 13.2630 - mse: 13.2630 - val_loss: 3.6050 - val_mse: 3.6050\n",
      "Epoch 90/100\n",
      "1/1 [==============================] - 0s 62ms/step - loss: 12.5815 - mse: 12.5815 - val_loss: 3.0742 - val_mse: 3.0742\n",
      "Epoch 91/100\n",
      "1/1 [==============================] - 0s 71ms/step - loss: 11.9422 - mse: 11.9422 - val_loss: 3.0290 - val_mse: 3.0290\n",
      "Epoch 92/100\n",
      "1/1 [==============================] - 0s 50ms/step - loss: 11.2963 - mse: 11.2963 - val_loss: 2.8359 - val_mse: 2.8359\n",
      "Epoch 93/100\n",
      "1/1 [==============================] - 0s 41ms/step - loss: 10.7262 - mse: 10.7262 - val_loss: 2.7804 - val_mse: 2.7804\n",
      "Epoch 94/100\n",
      "1/1 [==============================] - 0s 51ms/step - loss: 10.2583 - mse: 10.2583 - val_loss: 3.2218 - val_mse: 3.2218\n",
      "Epoch 95/100\n",
      "1/1 [==============================] - 0s 50ms/step - loss: 9.9671 - mse: 9.9671 - val_loss: 3.2736 - val_mse: 3.2736\n",
      "Epoch 96/100\n",
      "1/1 [==============================] - 0s 46ms/step - loss: 9.9705 - mse: 9.9705 - val_loss: 5.2291 - val_mse: 5.2291\n",
      "Epoch 97/100\n",
      "1/1 [==============================] - 0s 40ms/step - loss: 10.3154 - mse: 10.3154 - val_loss: 4.7724 - val_mse: 4.7724\n",
      "Epoch 98/100\n",
      "1/1 [==============================] - 0s 52ms/step - loss: 10.7133 - mse: 10.7133 - val_loss: 6.7081 - val_mse: 6.7081\n",
      "Epoch 99/100\n",
      "1/1 [==============================] - 0s 77ms/step - loss: 10.4679 - mse: 10.4679 - val_loss: 3.8527 - val_mse: 3.8527\n",
      "Epoch 100/100\n",
      "1/1 [==============================] - 0s 47ms/step - loss: 9.6075 - mse: 9.6075 - val_loss: 4.8356 - val_mse: 4.8356\n"
     ]
    }
   ],
   "source": [
    "N_EPOCHS = 100\n",
    "history = model.fit(X_train, y_train, epochs = N_EPOCHS, validation_data=(X_test, y_test))"
   ]
  },
  {
   "cell_type": "code",
   "execution_count": 81,
   "id": "974de5f7",
   "metadata": {},
   "outputs": [
    {
     "name": "stdout",
     "output_type": "stream",
     "text": [
      "1/1 [==============================] - 0s 31ms/step - loss: 4.8356 - mse: 4.8356\n"
     ]
    },
    {
     "data": {
      "text/plain": [
       "[4.835589408874512, 4.835589408874512]"
      ]
     },
     "execution_count": 81,
     "metadata": {},
     "output_type": "execute_result"
    }
   ],
   "source": [
    "model.evaluate(X_test, y_test)"
   ]
  },
  {
   "cell_type": "code",
   "execution_count": 82,
   "id": "7166b5e0",
   "metadata": {},
   "outputs": [
    {
     "data": {
      "image/png": "[encoded data removed]",
      "text/plain": [
       "<Figure size 1000x700 with 1 Axes>"
      ]
     },
     "metadata": {},
     "output_type": "display_data"
    }
   ],
   "source": [
    "# loss 체크\n",
    "import matplotlib.pyplot as plt\n",
    "plt.figure(figsize=(10,7))\n",
    "plt.plot(range(N_EPOCHS), history.history['loss'], label='train loss')\n",
    "plt.plot(range(N_EPOCHS), history.history['val_loss'], label='test loss')\n",
    "plt.xlabel('Epoch')\n",
    "plt.ylabel('Loss')\n",
    "plt.legend()\n",
    "plt.show()"
   ]
  },
  {
   "cell_type": "code",
   "execution_count": 83,
   "id": "125ce3ae",
   "metadata": {},
   "outputs": [
    {
     "data": {
      "image/png": "[encoded data removed]",
      "text/plain": [
       "<Figure size 1000x700 with 1 Axes>"
      ]
     },
     "metadata": {},
     "output_type": "display_data"
    }
   ],
   "source": [
    "# loss 체크\n",
    "import matplotlib.pyplot as plt\n",
    "plt.figure(figsize=(10,7))\n",
    "plt.plot(range(N_EPOCHS), history.history['mse'], label='mse')\n",
    "plt.plot(range(N_EPOCHS), history.history['val_mse'], label='test mse')\n",
    "plt.xlabel('Epoch')\n",
    "plt.ylabel('Loss')\n",
    "plt.legend()\n",
    "plt.show()\n"
   ]
  },
  {
   "cell_type": "code",
   "execution_count": null,
   "id": "f383feb4",
   "metadata": {},
   "outputs": [],
   "source": []
  }
 ],
 "metadata": {
  "kernelspec": {
   "display_name": "Python 3 (ipykernel)",
   "language": "python",
   "name": "python3"
  },
  "language_info": {
   "codemirror_mode": {
    "name": "ipython",
    "version": 3
   },
   "file_extension": ".py",
   "mimetype": "text/x-python",
   "name": "python",
   "nbconvert_exporter": "python",
   "pygments_lexer": "ipython3",
   "version": "3.10.9"
  }
 },
 "nbformat": 4,
 "nbformat_minor": 5
}
