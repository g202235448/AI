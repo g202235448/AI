{
 "cells": [
  {
   "cell_type": "code",
   "execution_count": 49,
   "id": "65213773",
   "metadata": {},
   "outputs": [],
   "source": [
    "import matplotlib.pyplot as plt\n",
    "import numpy as np\n",
    "import pandas as pd\n",
    "import seaborn as sns\n",
    "import warnings\n",
    "warnings.filterwarnings('ignore')\n",
    "from sklearn.model_selection import train_test_split\n",
    "from sklearn.linear_model import LinearRegression\n",
    "from sklearn.metrics import mean_squared_error, r2_score\n",
    "from sklearn import metrics\n",
    "import tensorflow as tf\n",
    "from tensorflow import keras\n",
    "from tensorflow.keras import layers"
   ]
  },
  {
   "cell_type": "code",
   "execution_count": 50,
   "id": "5a53c1a3",
   "metadata": {},
   "outputs": [],
   "source": [
    "from sklearn.datasets import load_linnerud\n",
    "linnerud = load_linnerud()"
   ]
  },
  {
   "cell_type": "code",
   "execution_count": 51,
   "id": "2bab4c03",
   "metadata": {},
   "outputs": [
    {
     "data": {
      "text/plain": [
       "{'data': array([[  5., 162.,  60.],\n",
       "        [  2., 110.,  60.],\n",
       "        [ 12., 101., 101.],\n",
       "        [ 12., 105.,  37.],\n",
       "        [ 13., 155.,  58.],\n",
       "        [  4., 101.,  42.],\n",
       "        [  8., 101.,  38.],\n",
       "        [  6., 125.,  40.],\n",
       "        [ 15., 200.,  40.],\n",
       "        [ 17., 251., 250.],\n",
       "        [ 17., 120.,  38.],\n",
       "        [ 13., 210., 115.],\n",
       "        [ 14., 215., 105.],\n",
       "        [  1.,  50.,  50.],\n",
       "        [  6.,  70.,  31.],\n",
       "        [ 12., 210., 120.],\n",
       "        [  4.,  60.,  25.],\n",
       "        [ 11., 230.,  80.],\n",
       "        [ 15., 225.,  73.],\n",
       "        [  2., 110.,  43.]]),\n",
       " 'feature_names': ['Chins', 'Situps', 'Jumps'],\n",
       " 'target': array([[191.,  36.,  50.],\n",
       "        [189.,  37.,  52.],\n",
       "        [193.,  38.,  58.],\n",
       "        [162.,  35.,  62.],\n",
       "        [189.,  35.,  46.],\n",
       "        [182.,  36.,  56.],\n",
       "        [211.,  38.,  56.],\n",
       "        [167.,  34.,  60.],\n",
       "        [176.,  31.,  74.],\n",
       "        [154.,  33.,  56.],\n",
       "        [169.,  34.,  50.],\n",
       "        [166.,  33.,  52.],\n",
       "        [154.,  34.,  64.],\n",
       "        [247.,  46.,  50.],\n",
       "        [193.,  36.,  46.],\n",
       "        [202.,  37.,  62.],\n",
       "        [176.,  37.,  54.],\n",
       "        [157.,  32.,  52.],\n",
       "        [156.,  33.,  54.],\n",
       "        [138.,  33.,  68.]]),\n",
       " 'target_names': ['Weight', 'Waist', 'Pulse'],\n",
       " 'frame': None,\n",
       " 'DESCR': '.. _linnerrud_dataset:\\n\\nLinnerrud dataset\\n-----------------\\n\\n**Data Set Characteristics:**\\n\\n    :Number of Instances: 20\\n    :Number of Attributes: 3\\n    :Missing Attribute Values: None\\n\\nThe Linnerud dataset is a multi-output regression dataset. It consists of three\\nexercise (data) and three physiological (target) variables collected from\\ntwenty middle-aged men in a fitness club:\\n\\n- *physiological* - CSV containing 20 observations on 3 physiological variables:\\n   Weight, Waist and Pulse.\\n- *exercise* - CSV containing 20 observations on 3 exercise variables:\\n   Chins, Situps and Jumps.\\n\\n.. topic:: References\\n\\n  * Tenenhaus, M. (1998). La regression PLS: theorie et pratique. Paris:\\n    Editions Technic.\\n',\n",
       " 'data_filename': 'linnerud_exercise.csv',\n",
       " 'target_filename': 'linnerud_physiological.csv',\n",
       " 'data_module': 'sklearn.datasets.data'}"
      ]
     },
     "execution_count": 51,
     "metadata": {},
     "output_type": "execute_result"
    }
   ],
   "source": [
    "linnerud"
   ]
  },
  {
   "cell_type": "code",
   "execution_count": 52,
   "id": "e342e8ce",
   "metadata": {},
   "outputs": [
    {
     "data": {
      "text/html": [
       "<div>\n",
       "<style scoped>\n",
       "    .dataframe tbody tr th:only-of-type {\n",
       "        vertical-align: middle;\n",
       "    }\n",
       "\n",
       "    .dataframe tbody tr th {\n",
       "        vertical-align: top;\n",
       "    }\n",
       "\n",
       "    .dataframe thead th {\n",
       "        text-align: right;\n",
       "    }\n",
       "</style>\n",
       "<table border=\"1\" class=\"dataframe\">\n",
       "  <thead>\n",
       "    <tr style=\"text-align: right;\">\n",
       "      <th></th>\n",
       "      <th>Chins</th>\n",
       "      <th>Situps</th>\n",
       "      <th>Jumps</th>\n",
       "      <th>Weight</th>\n",
       "      <th>Waist</th>\n",
       "      <th>Pulse</th>\n",
       "    </tr>\n",
       "  </thead>\n",
       "  <tbody>\n",
       "    <tr>\n",
       "      <th>15</th>\n",
       "      <td>12.0</td>\n",
       "      <td>210.0</td>\n",
       "      <td>120.0</td>\n",
       "      <td>202.0</td>\n",
       "      <td>37.0</td>\n",
       "      <td>62.0</td>\n",
       "    </tr>\n",
       "    <tr>\n",
       "      <th>16</th>\n",
       "      <td>4.0</td>\n",
       "      <td>60.0</td>\n",
       "      <td>25.0</td>\n",
       "      <td>176.0</td>\n",
       "      <td>37.0</td>\n",
       "      <td>54.0</td>\n",
       "    </tr>\n",
       "    <tr>\n",
       "      <th>17</th>\n",
       "      <td>11.0</td>\n",
       "      <td>230.0</td>\n",
       "      <td>80.0</td>\n",
       "      <td>157.0</td>\n",
       "      <td>32.0</td>\n",
       "      <td>52.0</td>\n",
       "    </tr>\n",
       "    <tr>\n",
       "      <th>18</th>\n",
       "      <td>15.0</td>\n",
       "      <td>225.0</td>\n",
       "      <td>73.0</td>\n",
       "      <td>156.0</td>\n",
       "      <td>33.0</td>\n",
       "      <td>54.0</td>\n",
       "    </tr>\n",
       "    <tr>\n",
       "      <th>19</th>\n",
       "      <td>2.0</td>\n",
       "      <td>110.0</td>\n",
       "      <td>43.0</td>\n",
       "      <td>138.0</td>\n",
       "      <td>33.0</td>\n",
       "      <td>68.0</td>\n",
       "    </tr>\n",
       "  </tbody>\n",
       "</table>\n",
       "</div>"
      ],
      "text/plain": [
       "    Chins  Situps  Jumps  Weight  Waist  Pulse\n",
       "15   12.0   210.0  120.0   202.0   37.0   62.0\n",
       "16    4.0    60.0   25.0   176.0   37.0   54.0\n",
       "17   11.0   230.0   80.0   157.0   32.0   52.0\n",
       "18   15.0   225.0   73.0   156.0   33.0   54.0\n",
       "19    2.0   110.0   43.0   138.0   33.0   68.0"
      ]
     },
     "execution_count": 52,
     "metadata": {},
     "output_type": "execute_result"
    }
   ],
   "source": [
    "df = pd.concat([pd.DataFrame(linnerud.data, columns=linnerud.feature_names),\n",
    "                pd.DataFrame(linnerud.target, columns=linnerud.target_names)],\n",
    "               axis=1)\n",
    "df.tail()"
   ]
  },
  {
   "cell_type": "code",
   "execution_count": 53,
   "id": "3d3022c4",
   "metadata": {},
   "outputs": [
    {
     "data": {
      "text/html": [
       "<div>\n",
       "<style scoped>\n",
       "    .dataframe tbody tr th:only-of-type {\n",
       "        vertical-align: middle;\n",
       "    }\n",
       "\n",
       "    .dataframe tbody tr th {\n",
       "        vertical-align: top;\n",
       "    }\n",
       "\n",
       "    .dataframe thead th {\n",
       "        text-align: right;\n",
       "    }\n",
       "</style>\n",
       "<table border=\"1\" class=\"dataframe\">\n",
       "  <thead>\n",
       "    <tr style=\"text-align: right;\">\n",
       "      <th></th>\n",
       "      <th>Chins</th>\n",
       "      <th>Situps</th>\n",
       "      <th>Jumps</th>\n",
       "      <th>Weight</th>\n",
       "      <th>Waist</th>\n",
       "      <th>Pulse</th>\n",
       "    </tr>\n",
       "  </thead>\n",
       "  <tbody>\n",
       "    <tr>\n",
       "      <th>0</th>\n",
       "      <td>5.0</td>\n",
       "      <td>162.0</td>\n",
       "      <td>60.0</td>\n",
       "      <td>191.0</td>\n",
       "      <td>36.0</td>\n",
       "      <td>50.0</td>\n",
       "    </tr>\n",
       "    <tr>\n",
       "      <th>1</th>\n",
       "      <td>2.0</td>\n",
       "      <td>110.0</td>\n",
       "      <td>60.0</td>\n",
       "      <td>189.0</td>\n",
       "      <td>37.0</td>\n",
       "      <td>52.0</td>\n",
       "    </tr>\n",
       "    <tr>\n",
       "      <th>2</th>\n",
       "      <td>12.0</td>\n",
       "      <td>101.0</td>\n",
       "      <td>101.0</td>\n",
       "      <td>193.0</td>\n",
       "      <td>38.0</td>\n",
       "      <td>58.0</td>\n",
       "    </tr>\n",
       "    <tr>\n",
       "      <th>3</th>\n",
       "      <td>12.0</td>\n",
       "      <td>105.0</td>\n",
       "      <td>37.0</td>\n",
       "      <td>162.0</td>\n",
       "      <td>35.0</td>\n",
       "      <td>62.0</td>\n",
       "    </tr>\n",
       "    <tr>\n",
       "      <th>4</th>\n",
       "      <td>13.0</td>\n",
       "      <td>155.0</td>\n",
       "      <td>58.0</td>\n",
       "      <td>189.0</td>\n",
       "      <td>35.0</td>\n",
       "      <td>46.0</td>\n",
       "    </tr>\n",
       "  </tbody>\n",
       "</table>\n",
       "</div>"
      ],
      "text/plain": [
       "   Chins  Situps  Jumps  Weight  Waist  Pulse\n",
       "0    5.0   162.0   60.0   191.0   36.0   50.0\n",
       "1    2.0   110.0   60.0   189.0   37.0   52.0\n",
       "2   12.0   101.0  101.0   193.0   38.0   58.0\n",
       "3   12.0   105.0   37.0   162.0   35.0   62.0\n",
       "4   13.0   155.0   58.0   189.0   35.0   46.0"
      ]
     },
     "execution_count": 53,
     "metadata": {},
     "output_type": "execute_result"
    }
   ],
   "source": [
    "df.head()"
   ]
  },
  {
   "cell_type": "code",
   "execution_count": 54,
   "id": "cfc066cf",
   "metadata": {},
   "outputs": [
    {
     "data": {
      "text/plain": [
       "Index(['Chins', 'Situps', 'Jumps', 'Weight', 'Waist', 'Pulse'], dtype='object')"
      ]
     },
     "execution_count": 54,
     "metadata": {},
     "output_type": "execute_result"
    }
   ],
   "source": [
    "df.columns"
   ]
  },
  {
   "cell_type": "code",
   "execution_count": 55,
   "id": "ce73e71a",
   "metadata": {},
   "outputs": [
    {
     "data": {
      "text/plain": [
       "Chins     0\n",
       "Situps    0\n",
       "Jumps     0\n",
       "Weight    0\n",
       "Waist     0\n",
       "Pulse     0\n",
       "dtype: int64"
      ]
     },
     "execution_count": 55,
     "metadata": {},
     "output_type": "execute_result"
    }
   ],
   "source": [
    "df.isna().sum()"
   ]
  },
  {
   "cell_type": "code",
   "execution_count": 57,
   "id": "e8e98be2",
   "metadata": {},
   "outputs": [
    {
     "data": {
      "text/html": [
       "<div>\n",
       "<style scoped>\n",
       "    .dataframe tbody tr th:only-of-type {\n",
       "        vertical-align: middle;\n",
       "    }\n",
       "\n",
       "    .dataframe tbody tr th {\n",
       "        vertical-align: top;\n",
       "    }\n",
       "\n",
       "    .dataframe thead th {\n",
       "        text-align: right;\n",
       "    }\n",
       "</style>\n",
       "<table border=\"1\" class=\"dataframe\">\n",
       "  <thead>\n",
       "    <tr style=\"text-align: right;\">\n",
       "      <th></th>\n",
       "      <th>Chins</th>\n",
       "      <th>Situps</th>\n",
       "      <th>Jumps</th>\n",
       "      <th>Pulse</th>\n",
       "    </tr>\n",
       "  </thead>\n",
       "  <tbody>\n",
       "    <tr>\n",
       "      <th>0</th>\n",
       "      <td>5.0</td>\n",
       "      <td>162.0</td>\n",
       "      <td>60.0</td>\n",
       "      <td>50.0</td>\n",
       "    </tr>\n",
       "    <tr>\n",
       "      <th>1</th>\n",
       "      <td>2.0</td>\n",
       "      <td>110.0</td>\n",
       "      <td>60.0</td>\n",
       "      <td>52.0</td>\n",
       "    </tr>\n",
       "    <tr>\n",
       "      <th>2</th>\n",
       "      <td>12.0</td>\n",
       "      <td>101.0</td>\n",
       "      <td>101.0</td>\n",
       "      <td>58.0</td>\n",
       "    </tr>\n",
       "    <tr>\n",
       "      <th>3</th>\n",
       "      <td>12.0</td>\n",
       "      <td>105.0</td>\n",
       "      <td>37.0</td>\n",
       "      <td>62.0</td>\n",
       "    </tr>\n",
       "    <tr>\n",
       "      <th>4</th>\n",
       "      <td>13.0</td>\n",
       "      <td>155.0</td>\n",
       "      <td>58.0</td>\n",
       "      <td>46.0</td>\n",
       "    </tr>\n",
       "  </tbody>\n",
       "</table>\n",
       "</div>"
      ],
      "text/plain": [
       "   Chins  Situps  Jumps  Pulse\n",
       "0    5.0   162.0   60.0   50.0\n",
       "1    2.0   110.0   60.0   52.0\n",
       "2   12.0   101.0  101.0   58.0\n",
       "3   12.0   105.0   37.0   62.0\n",
       "4   13.0   155.0   58.0   46.0"
      ]
     },
     "execution_count": 57,
     "metadata": {},
     "output_type": "execute_result"
    }
   ],
   "source": [
    "X=df.drop(['Weight', 'Waist'], axis=1)\n",
    "X.head()"
   ]
  },
  {
   "cell_type": "code",
   "execution_count": 58,
   "id": "b6aa4c7a",
   "metadata": {},
   "outputs": [
    {
     "data": {
      "text/plain": [
       "0    50.0\n",
       "1    52.0\n",
       "2    58.0\n",
       "3    62.0\n",
       "4    46.0\n",
       "Name: Pulse, dtype: float64"
      ]
     },
     "execution_count": 58,
     "metadata": {},
     "output_type": "execute_result"
    }
   ],
   "source": [
    "y = df['Pulse']\n",
    "y.head()"
   ]
  },
  {
   "cell_type": "code",
   "execution_count": 59,
   "id": "e61c1011",
   "metadata": {},
   "outputs": [],
   "source": [
    "from sklearn.model_selection import train_test_split\n",
    "\n",
    "X_train, X_test, y_train, y_test = train_test_split(X, y,test_size=0.25,random_state=42)"
   ]
  },
  {
   "cell_type": "code",
   "execution_count": 64,
   "id": "db087ee2",
   "metadata": {},
   "outputs": [
    {
     "name": "stdout",
     "output_type": "stream",
     "text": [
      "Model: \"sequential_7\"\n",
      "_________________________________________________________________\n",
      " Layer (type)                Output Shape              Param #   \n",
      "=================================================================\n",
      " dense_21 (Dense)            (None, 20)                100       \n",
      "                                                                 \n",
      " dense_22 (Dense)            (None, 10)                210       \n",
      "                                                                 \n",
      " dense_23 (Dense)            (None, 1)                 11        \n",
      "                                                                 \n",
      "=================================================================\n",
      "Total params: 321\n",
      "Trainable params: 321\n",
      "Non-trainable params: 0\n",
      "_________________________________________________________________\n"
     ]
    }
   ],
   "source": [
    "from tensorflow.keras.models import Sequential\n",
    "from tensorflow.keras.layers import Dense\n",
    "\n",
    "model = Sequential()\n",
    "model.add(Dense(20, activation = 'relu', input_shape = (4,)))\n",
    "model.add(Dense(10, activation = 'relu'))\n",
    "model.add(Dense(1)) \n",
    "model.compile(optimizer = 'rmsprop', loss = 'mse', metrics = ['mse'])\n",
    "\n",
    "model.summary()"
   ]
  },
  {
   "cell_type": "code",
   "execution_count": 65,
   "id": "4e72e19b",
   "metadata": {
    "scrolled": false
   },
   "outputs": [
    {
     "name": "stdout",
     "output_type": "stream",
     "text": [
      "Epoch 1/100\n",
      "1/1 [==============================] - 1s 711ms/step - loss: 2999.3269 - mse: 2999.3269 - val_loss: 3152.1172 - val_mse: 3152.1172\n",
      "Epoch 2/100\n",
      "1/1 [==============================] - 0s 67ms/step - loss: 2642.5974 - mse: 2642.5974 - val_loss: 2818.2317 - val_mse: 2818.2317\n",
      "Epoch 3/100\n",
      "1/1 [==============================] - 0s 64ms/step - loss: 2391.3540 - mse: 2391.3540 - val_loss: 2542.3711 - val_mse: 2542.3711\n",
      "Epoch 4/100\n",
      "1/1 [==============================] - 0s 53ms/step - loss: 2173.5618 - mse: 2173.5618 - val_loss: 2318.3359 - val_mse: 2318.3359\n",
      "Epoch 5/100\n",
      "1/1 [==============================] - 0s 65ms/step - loss: 1996.7872 - mse: 1996.7872 - val_loss: 2126.9333 - val_mse: 2126.9333\n",
      "Epoch 6/100\n",
      "1/1 [==============================] - 0s 66ms/step - loss: 1845.8914 - mse: 1845.8914 - val_loss: 1958.7278 - val_mse: 1958.7278\n",
      "Epoch 7/100\n",
      "1/1 [==============================] - 0s 71ms/step - loss: 1713.9065 - mse: 1713.9065 - val_loss: 1807.9926 - val_mse: 1807.9926\n",
      "Epoch 8/100\n",
      "1/1 [==============================] - 0s 44ms/step - loss: 1595.6788 - mse: 1595.6788 - val_loss: 1671.2018 - val_mse: 1671.2018\n",
      "Epoch 9/100\n",
      "1/1 [==============================] - 0s 49ms/step - loss: 1488.2709 - mse: 1488.2709 - val_loss: 1545.9401 - val_mse: 1545.9401\n",
      "Epoch 10/100\n",
      "1/1 [==============================] - 0s 67ms/step - loss: 1389.5454 - mse: 1389.5454 - val_loss: 1430.4873 - val_mse: 1430.4873\n",
      "Epoch 11/100\n",
      "1/1 [==============================] - 0s 73ms/step - loss: 1298.6368 - mse: 1298.6368 - val_loss: 1322.8079 - val_mse: 1322.8079\n",
      "Epoch 12/100\n",
      "1/1 [==============================] - 0s 56ms/step - loss: 1214.5038 - mse: 1214.5038 - val_loss: 1222.0970 - val_mse: 1222.0970\n",
      "Epoch 13/100\n",
      "1/1 [==============================] - 0s 52ms/step - loss: 1136.5176 - mse: 1136.5176 - val_loss: 1128.5354 - val_mse: 1128.5354\n",
      "Epoch 14/100\n",
      "1/1 [==============================] - 0s 48ms/step - loss: 1064.2085 - mse: 1064.2085 - val_loss: 1041.1360 - val_mse: 1041.1360\n",
      "Epoch 15/100\n",
      "1/1 [==============================] - 0s 46ms/step - loss: 996.6738 - mse: 996.6738 - val_loss: 959.3925 - val_mse: 959.3925\n",
      "Epoch 16/100\n",
      "1/1 [==============================] - 0s 54ms/step - loss: 933.5173 - mse: 933.5173 - val_loss: 882.8873 - val_mse: 882.8873\n",
      "Epoch 17/100\n",
      "1/1 [==============================] - 0s 44ms/step - loss: 874.4107 - mse: 874.4107 - val_loss: 811.2687 - val_mse: 811.2687\n",
      "Epoch 18/100\n",
      "1/1 [==============================] - 0s 44ms/step - loss: 819.0781 - mse: 819.0781 - val_loss: 744.2384 - val_mse: 744.2384\n",
      "Epoch 19/100\n",
      "1/1 [==============================] - 0s 44ms/step - loss: 766.9691 - mse: 766.9691 - val_loss: 681.2612 - val_mse: 681.2612\n",
      "Epoch 20/100\n",
      "1/1 [==============================] - 0s 52ms/step - loss: 717.7352 - mse: 717.7352 - val_loss: 622.6276 - val_mse: 622.6276\n",
      "Epoch 21/100\n",
      "1/1 [==============================] - 0s 45ms/step - loss: 671.9166 - mse: 671.9166 - val_loss: 567.7552 - val_mse: 567.7552\n",
      "Epoch 22/100\n",
      "1/1 [==============================] - 0s 45ms/step - loss: 628.6328 - mse: 628.6328 - val_loss: 516.6908 - val_mse: 516.6908\n",
      "Epoch 23/100\n",
      "1/1 [==============================] - 0s 42ms/step - loss: 588.3920 - mse: 588.3920 - val_loss: 469.2497 - val_mse: 469.2497\n",
      "Epoch 24/100\n",
      "1/1 [==============================] - 0s 47ms/step - loss: 551.0307 - mse: 551.0307 - val_loss: 425.2645 - val_mse: 425.2645\n",
      "Epoch 25/100\n",
      "1/1 [==============================] - 0s 51ms/step - loss: 516.2300 - mse: 516.2300 - val_loss: 383.2010 - val_mse: 383.2010\n",
      "Epoch 26/100\n",
      "1/1 [==============================] - 0s 60ms/step - loss: 483.2961 - mse: 483.2961 - val_loss: 344.2150 - val_mse: 344.2150\n",
      "Epoch 27/100\n",
      "1/1 [==============================] - 0s 51ms/step - loss: 452.6261 - mse: 452.6261 - val_loss: 308.6195 - val_mse: 308.6195\n",
      "Epoch 28/100\n",
      "1/1 [==============================] - 0s 53ms/step - loss: 424.5300 - mse: 424.5300 - val_loss: 276.2191 - val_mse: 276.2191\n",
      "Epoch 29/100\n",
      "1/1 [==============================] - 0s 52ms/step - loss: 398.8469 - mse: 398.8469 - val_loss: 246.8340 - val_mse: 246.8340\n",
      "Epoch 30/100\n",
      "1/1 [==============================] - 0s 50ms/step - loss: 375.4297 - mse: 375.4297 - val_loss: 220.2936 - val_mse: 220.2936\n",
      "Epoch 31/100\n",
      "1/1 [==============================] - 0s 49ms/step - loss: 354.1395 - mse: 354.1395 - val_loss: 196.4340 - val_mse: 196.4340\n",
      "Epoch 32/100\n",
      "1/1 [==============================] - 0s 63ms/step - loss: 334.8430 - mse: 334.8430 - val_loss: 175.0943 - val_mse: 175.0943\n",
      "Epoch 33/100\n",
      "1/1 [==============================] - 0s 67ms/step - loss: 317.4100 - mse: 317.4100 - val_loss: 156.1158 - val_mse: 156.1158\n",
      "Epoch 34/100\n",
      "1/1 [==============================] - 0s 60ms/step - loss: 301.7014 - mse: 301.7014 - val_loss: 139.2941 - val_mse: 139.2941\n",
      "Epoch 35/100\n",
      "1/1 [==============================] - 0s 58ms/step - loss: 287.5416 - mse: 287.5416 - val_loss: 124.5631 - val_mse: 124.5631\n",
      "Epoch 36/100\n",
      "1/1 [==============================] - 0s 58ms/step - loss: 274.9298 - mse: 274.9298 - val_loss: 111.7495 - val_mse: 111.7495\n",
      "Epoch 37/100\n",
      "1/1 [==============================] - 0s 43ms/step - loss: 263.7206 - mse: 263.7206 - val_loss: 100.6829 - val_mse: 100.6829\n",
      "Epoch 38/100\n",
      "1/1 [==============================] - 0s 39ms/step - loss: 253.7715 - mse: 253.7715 - val_loss: 91.1965 - val_mse: 91.1965\n",
      "Epoch 39/100\n",
      "1/1 [==============================] - 0s 49ms/step - loss: 244.9032 - mse: 244.9032 - val_loss: 83.0672 - val_mse: 83.0672\n",
      "Epoch 40/100\n",
      "1/1 [==============================] - 0s 51ms/step - loss: 236.9646 - mse: 236.9646 - val_loss: 76.2365 - val_mse: 76.2365\n",
      "Epoch 41/100\n",
      "1/1 [==============================] - 0s 42ms/step - loss: 229.9548 - mse: 229.9548 - val_loss: 70.5874 - val_mse: 70.5874\n",
      "Epoch 42/100\n",
      "1/1 [==============================] - 0s 45ms/step - loss: 223.7244 - mse: 223.7244 - val_loss: 65.8947 - val_mse: 65.8947\n",
      "Epoch 43/100\n",
      "1/1 [==============================] - 0s 54ms/step - loss: 218.1184 - mse: 218.1184 - val_loss: 62.0164 - val_mse: 62.0164\n",
      "Epoch 44/100\n",
      "1/1 [==============================] - 0s 63ms/step - loss: 213.0200 - mse: 213.0200 - val_loss: 58.8226 - val_mse: 58.8226\n",
      "Epoch 45/100\n",
      "1/1 [==============================] - 0s 60ms/step - loss: 208.3254 - mse: 208.3254 - val_loss: 56.1961 - val_mse: 56.1961\n",
      "Epoch 46/100\n",
      "1/1 [==============================] - 0s 41ms/step - loss: 203.9436 - mse: 203.9436 - val_loss: 54.0333 - val_mse: 54.0333\n",
      "Epoch 47/100\n",
      "1/1 [==============================] - 0s 52ms/step - loss: 199.8015 - mse: 199.8015 - val_loss: 52.2180 - val_mse: 52.2180\n",
      "Epoch 48/100\n",
      "1/1 [==============================] - 0s 47ms/step - loss: 195.8500 - mse: 195.8500 - val_loss: 50.7101 - val_mse: 50.7101\n",
      "Epoch 49/100\n",
      "1/1 [==============================] - 0s 43ms/step - loss: 192.0252 - mse: 192.0252 - val_loss: 49.4419 - val_mse: 49.4419\n",
      "Epoch 50/100\n",
      "1/1 [==============================] - 0s 48ms/step - loss: 188.2818 - mse: 188.2818 - val_loss: 48.3277 - val_mse: 48.3277\n",
      "Epoch 51/100\n",
      "1/1 [==============================] - 0s 42ms/step - loss: 184.5175 - mse: 184.5175 - val_loss: 47.3681 - val_mse: 47.3681\n",
      "Epoch 52/100\n",
      "1/1 [==============================] - 0s 55ms/step - loss: 180.7971 - mse: 180.7971 - val_loss: 46.5196 - val_mse: 46.5196\n",
      "Epoch 53/100\n",
      "1/1 [==============================] - 0s 48ms/step - loss: 177.0947 - mse: 177.0947 - val_loss: 45.7495 - val_mse: 45.7495\n",
      "Epoch 54/100\n",
      "1/1 [==============================] - 0s 40ms/step - loss: 173.3931 - mse: 173.3931 - val_loss: 45.0336 - val_mse: 45.0336\n",
      "Epoch 55/100\n",
      "1/1 [==============================] - 0s 40ms/step - loss: 169.6813 - mse: 169.6813 - val_loss: 44.3547 - val_mse: 44.3547\n",
      "Epoch 56/100\n",
      "1/1 [==============================] - 0s 61ms/step - loss: 165.9534 - mse: 165.9534 - val_loss: 43.7007 - val_mse: 43.7007\n",
      "Epoch 57/100\n",
      "1/1 [==============================] - 0s 70ms/step - loss: 162.2068 - mse: 162.2068 - val_loss: 43.0634 - val_mse: 43.0634\n",
      "Epoch 58/100\n",
      "1/1 [==============================] - 0s 54ms/step - loss: 158.4412 - mse: 158.4412 - val_loss: 42.4377 - val_mse: 42.4377\n",
      "Epoch 59/100\n",
      "1/1 [==============================] - 0s 40ms/step - loss: 154.7179 - mse: 154.7179 - val_loss: 41.7062 - val_mse: 41.7062\n",
      "Epoch 60/100\n",
      "1/1 [==============================] - 0s 51ms/step - loss: 151.2963 - mse: 151.2963 - val_loss: 41.0993 - val_mse: 41.0993\n",
      "Epoch 61/100\n",
      "1/1 [==============================] - 0s 41ms/step - loss: 147.8657 - mse: 147.8657 - val_loss: 40.3493 - val_mse: 40.3493\n",
      "Epoch 62/100\n",
      "1/1 [==============================] - 0s 49ms/step - loss: 144.3440 - mse: 144.3440 - val_loss: 39.6098 - val_mse: 39.6098\n",
      "Epoch 63/100\n",
      "1/1 [==============================] - 0s 51ms/step - loss: 140.8044 - mse: 140.8044 - val_loss: 38.8780 - val_mse: 38.8780\n",
      "Epoch 64/100\n",
      "1/1 [==============================] - 0s 67ms/step - loss: 137.2481 - mse: 137.2481 - val_loss: 38.1523 - val_mse: 38.1523\n",
      "Epoch 65/100\n",
      "1/1 [==============================] - 0s 50ms/step - loss: 133.7306 - mse: 133.7306 - val_loss: 37.6177 - val_mse: 37.6177\n",
      "Epoch 66/100\n",
      "1/1 [==============================] - 0s 78ms/step - loss: 130.2169 - mse: 130.2169 - val_loss: 36.8438 - val_mse: 36.8438\n",
      "Epoch 67/100\n",
      "1/1 [==============================] - 0s 50ms/step - loss: 126.6258 - mse: 126.6258 - val_loss: 36.0952 - val_mse: 36.0952\n",
      "Epoch 68/100\n",
      "1/1 [==============================] - 0s 61ms/step - loss: 123.0347 - mse: 123.0347 - val_loss: 35.3627 - val_mse: 35.3627\n",
      "Epoch 69/100\n",
      "1/1 [==============================] - 0s 48ms/step - loss: 119.4450 - mse: 119.4450 - val_loss: 34.6406 - val_mse: 34.6406\n",
      "Epoch 70/100\n",
      "1/1 [==============================] - 0s 51ms/step - loss: 115.9343 - mse: 115.9343 - val_loss: 34.1897 - val_mse: 34.1897\n",
      "Epoch 71/100\n",
      "1/1 [==============================] - 0s 42ms/step - loss: 112.4152 - mse: 112.4152 - val_loss: 33.3699 - val_mse: 33.3699\n",
      "Epoch 72/100\n",
      "1/1 [==============================] - 0s 57ms/step - loss: 108.8614 - mse: 108.8614 - val_loss: 32.6312 - val_mse: 32.6312\n",
      "Epoch 73/100\n",
      "1/1 [==============================] - 0s 48ms/step - loss: 105.3274 - mse: 105.3274 - val_loss: 31.8665 - val_mse: 31.8665\n",
      "Epoch 74/100\n",
      "1/1 [==============================] - 0s 50ms/step - loss: 100.9506 - mse: 100.9506 - val_loss: 31.5036 - val_mse: 31.5036\n",
      "Epoch 75/100\n",
      "1/1 [==============================] - 0s 47ms/step - loss: 96.9322 - mse: 96.9322 - val_loss: 30.4715 - val_mse: 30.4715\n",
      "Epoch 76/100\n",
      "1/1 [==============================] - 0s 49ms/step - loss: 92.8356 - mse: 92.8356 - val_loss: 29.1060 - val_mse: 29.1060\n",
      "Epoch 77/100\n",
      "1/1 [==============================] - 0s 50ms/step - loss: 88.5523 - mse: 88.5523 - val_loss: 27.5788 - val_mse: 27.5788\n",
      "Epoch 78/100\n",
      "1/1 [==============================] - 0s 52ms/step - loss: 84.2437 - mse: 84.2437 - val_loss: 26.1648 - val_mse: 26.1648\n",
      "Epoch 79/100\n",
      "1/1 [==============================] - 0s 56ms/step - loss: 80.0803 - mse: 80.0803 - val_loss: 25.2244 - val_mse: 25.2244\n",
      "Epoch 80/100\n",
      "1/1 [==============================] - 0s 44ms/step - loss: 76.0014 - mse: 76.0014 - val_loss: 23.7751 - val_mse: 23.7751\n",
      "Epoch 81/100\n",
      "1/1 [==============================] - 0s 41ms/step - loss: 72.0271 - mse: 72.0271 - val_loss: 22.5735 - val_mse: 22.5735\n",
      "Epoch 82/100\n",
      "1/1 [==============================] - 0s 52ms/step - loss: 68.1921 - mse: 68.1921 - val_loss: 21.4640 - val_mse: 21.4640\n",
      "Epoch 83/100\n",
      "1/1 [==============================] - 0s 59ms/step - loss: 64.4857 - mse: 64.4857 - val_loss: 20.5174 - val_mse: 20.5174\n",
      "Epoch 84/100\n",
      "1/1 [==============================] - 0s 51ms/step - loss: 61.0486 - mse: 61.0486 - val_loss: 20.0054 - val_mse: 20.0054\n",
      "Epoch 85/100\n",
      "1/1 [==============================] - 0s 44ms/step - loss: 57.7322 - mse: 57.7322 - val_loss: 18.9195 - val_mse: 18.9195\n",
      "Epoch 86/100\n",
      "1/1 [==============================] - 0s 43ms/step - loss: 54.4641 - mse: 54.4641 - val_loss: 18.1754 - val_mse: 18.1754\n",
      "Epoch 87/100\n",
      "1/1 [==============================] - 0s 43ms/step - loss: 51.3121 - mse: 51.3121 - val_loss: 17.4633 - val_mse: 17.4633\n",
      "Epoch 88/100\n",
      "1/1 [==============================] - 0s 56ms/step - loss: 48.2666 - mse: 48.2666 - val_loss: 16.7661 - val_mse: 16.7661\n",
      "Epoch 89/100\n",
      "1/1 [==============================] - 0s 46ms/step - loss: 45.2442 - mse: 45.2442 - val_loss: 16.3171 - val_mse: 16.3171\n",
      "Epoch 90/100\n",
      "1/1 [==============================] - 0s 56ms/step - loss: 42.0305 - mse: 42.0305 - val_loss: 14.5106 - val_mse: 14.5106\n",
      "Epoch 91/100\n",
      "1/1 [==============================] - 0s 50ms/step - loss: 39.0368 - mse: 39.0368 - val_loss: 13.4431 - val_mse: 13.4431\n",
      "Epoch 92/100\n",
      "1/1 [==============================] - 0s 43ms/step - loss: 36.4091 - mse: 36.4091 - val_loss: 12.4064 - val_mse: 12.4064\n",
      "Epoch 93/100\n",
      "1/1 [==============================] - 0s 60ms/step - loss: 33.8667 - mse: 33.8667 - val_loss: 11.4434 - val_mse: 11.4434\n",
      "Epoch 94/100\n",
      "1/1 [==============================] - 0s 69ms/step - loss: 31.4107 - mse: 31.4107 - val_loss: 10.6009 - val_mse: 10.6009\n",
      "Epoch 95/100\n",
      "1/1 [==============================] - 0s 63ms/step - loss: 29.1210 - mse: 29.1210 - val_loss: 9.9002 - val_mse: 9.9002\n",
      "Epoch 96/100\n",
      "1/1 [==============================] - 0s 53ms/step - loss: 27.0482 - mse: 27.0482 - val_loss: 9.0264 - val_mse: 9.0264\n",
      "Epoch 97/100\n",
      "1/1 [==============================] - 0s 60ms/step - loss: 24.6998 - mse: 24.6998 - val_loss: 8.2600 - val_mse: 8.2600\n",
      "Epoch 98/100\n",
      "1/1 [==============================] - 0s 44ms/step - loss: 22.8738 - mse: 22.8738 - val_loss: 7.6204 - val_mse: 7.6204\n",
      "Epoch 99/100\n",
      "1/1 [==============================] - 0s 42ms/step - loss: 21.1631 - mse: 21.1631 - val_loss: 7.0810 - val_mse: 7.0810\n",
      "Epoch 100/100\n",
      "1/1 [==============================] - 0s 47ms/step - loss: 19.5786 - mse: 19.5786 - val_loss: 6.6508 - val_mse: 6.6508\n"
     ]
    }
   ],
   "source": [
    "N_EPOCHS = 100\n",
    "history = model.fit(X_train, y_train, epochs = N_EPOCHS, validation_data=(X_test, y_test))"
   ]
  },
  {
   "cell_type": "code",
   "execution_count": 66,
   "id": "974de5f7",
   "metadata": {},
   "outputs": [
    {
     "name": "stdout",
     "output_type": "stream",
     "text": [
      "1/1 [==============================] - 0s 34ms/step - loss: 6.6508 - mse: 6.6508\n"
     ]
    },
    {
     "data": {
      "text/plain": [
       "[6.650786399841309, 6.650786399841309]"
      ]
     },
     "execution_count": 66,
     "metadata": {},
     "output_type": "execute_result"
    }
   ],
   "source": [
    "model.evaluate(X_test, y_test)"
   ]
  },
  {
   "cell_type": "code",
   "execution_count": 67,
   "id": "7166b5e0",
   "metadata": {},
   "outputs": [
    {
     "data": {
      "image/png": "[encoded data removed]",
      "text/plain": [
       "<Figure size 1000x700 with 1 Axes>"
      ]
     },
     "metadata": {},
     "output_type": "display_data"
    }
   ],
   "source": [
    "# loss 체크\n",
    "import matplotlib.pyplot as plt\n",
    "plt.figure(figsize=(10,7))\n",
    "plt.plot(range(N_EPOCHS), history.history['loss'], label='train loss')\n",
    "plt.plot(range(N_EPOCHS), history.history['val_loss'], label='test loss')\n",
    "plt.xlabel('Epoch')\n",
    "plt.ylabel('Loss')\n",
    "plt.legend()\n",
    "plt.show()"
   ]
  },
  {
   "cell_type": "code",
   "execution_count": 68,
   "id": "125ce3ae",
   "metadata": {},
   "outputs": [
    {
     "data": {
      "image/png": "[encoded data removed]",
      "text/plain": [
       "<Figure size 1000x700 with 1 Axes>"
      ]
     },
     "metadata": {},
     "output_type": "display_data"
    }
   ],
   "source": [
    "# loss 체크\n",
    "import matplotlib.pyplot as plt\n",
    "plt.figure(figsize=(10,7))\n",
    "plt.plot(range(N_EPOCHS), history.history['mse'], label='mse')\n",
    "plt.plot(range(N_EPOCHS), history.history['val_mse'], label='test mse')\n",
    "plt.xlabel('Epoch')\n",
    "plt.ylabel('Loss')\n",
    "plt.legend()\n",
    "plt.show()\n"
   ]
  },
  {
   "cell_type": "code",
   "execution_count": null,
   "id": "f383feb4",
   "metadata": {},
   "outputs": [],
   "source": []
  }
 ],
 "metadata": {
  "kernelspec": {
   "display_name": "Python 3 (ipykernel)",
   "language": "python",
   "name": "python3"
  },
  "language_info": {
   "codemirror_mode": {
    "name": "ipython",
    "version": 3
   },
   "file_extension": ".py",
   "mimetype": "text/x-python",
   "name": "python",
   "nbconvert_exporter": "python",
   "pygments_lexer": "ipython3",
   "version": "3.10.9"
  }
 },
 "nbformat": 4,
 "nbformat_minor": 5
}
