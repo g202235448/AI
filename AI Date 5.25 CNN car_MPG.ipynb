{
 "cells": [
  {
   "cell_type": "code",
   "execution_count": 28,
   "id": "1de677c5",
   "metadata": {},
   "outputs": [],
   "source": [
    "import numpy as np\n",
    "import pandas as pd\n",
    "import matplotlib.pyplot as plt\n",
    "import seaborn as sns\n",
    "import warnings\n",
    "warnings.filterwarnings('ignore')"
   ]
  },
  {
   "cell_type": "code",
   "execution_count": 29,
   "id": "732e8047",
   "metadata": {},
   "outputs": [],
   "source": [
    "url = 'http://archive.ics.uci.edu/ml/machine-learning-databases/auto-mpg/auto-mpg.data'\n",
    "column_names = ['MPG','Cylinders','Displacement','Horsepower','Weight',\n",
    "                'Acceleration', 'Model Year', 'Origin']"
   ]
  },
  {
   "cell_type": "code",
   "execution_count": 30,
   "id": "11843849",
   "metadata": {},
   "outputs": [],
   "source": [
    "car_MPG = pd.read_csv(url, names=column_names,\n",
    "                          na_values='?', comment='\\t',\n",
    "                          sep=' ', skipinitialspace=True)"
   ]
  },
  {
   "cell_type": "code",
   "execution_count": 31,
   "id": "9b65fcab",
   "metadata": {},
   "outputs": [
    {
     "data": {
      "text/html": [
       "<div>\n",
       "<style scoped>\n",
       "    .dataframe tbody tr th:only-of-type {\n",
       "        vertical-align: middle;\n",
       "    }\n",
       "\n",
       "    .dataframe tbody tr th {\n",
       "        vertical-align: top;\n",
       "    }\n",
       "\n",
       "    .dataframe thead th {\n",
       "        text-align: right;\n",
       "    }\n",
       "</style>\n",
       "<table border=\"1\" class=\"dataframe\">\n",
       "  <thead>\n",
       "    <tr style=\"text-align: right;\">\n",
       "      <th></th>\n",
       "      <th>MPG</th>\n",
       "      <th>Cylinders</th>\n",
       "      <th>Displacement</th>\n",
       "      <th>Horsepower</th>\n",
       "      <th>Weight</th>\n",
       "      <th>Acceleration</th>\n",
       "      <th>Model Year</th>\n",
       "      <th>Origin</th>\n",
       "    </tr>\n",
       "  </thead>\n",
       "  <tbody>\n",
       "    <tr>\n",
       "      <th>0</th>\n",
       "      <td>18.0</td>\n",
       "      <td>8</td>\n",
       "      <td>307.0</td>\n",
       "      <td>130.0</td>\n",
       "      <td>3504.0</td>\n",
       "      <td>12.0</td>\n",
       "      <td>70</td>\n",
       "      <td>1</td>\n",
       "    </tr>\n",
       "    <tr>\n",
       "      <th>1</th>\n",
       "      <td>15.0</td>\n",
       "      <td>8</td>\n",
       "      <td>350.0</td>\n",
       "      <td>165.0</td>\n",
       "      <td>3693.0</td>\n",
       "      <td>11.5</td>\n",
       "      <td>70</td>\n",
       "      <td>1</td>\n",
       "    </tr>\n",
       "    <tr>\n",
       "      <th>2</th>\n",
       "      <td>18.0</td>\n",
       "      <td>8</td>\n",
       "      <td>318.0</td>\n",
       "      <td>150.0</td>\n",
       "      <td>3436.0</td>\n",
       "      <td>11.0</td>\n",
       "      <td>70</td>\n",
       "      <td>1</td>\n",
       "    </tr>\n",
       "    <tr>\n",
       "      <th>3</th>\n",
       "      <td>16.0</td>\n",
       "      <td>8</td>\n",
       "      <td>304.0</td>\n",
       "      <td>150.0</td>\n",
       "      <td>3433.0</td>\n",
       "      <td>12.0</td>\n",
       "      <td>70</td>\n",
       "      <td>1</td>\n",
       "    </tr>\n",
       "    <tr>\n",
       "      <th>4</th>\n",
       "      <td>17.0</td>\n",
       "      <td>8</td>\n",
       "      <td>302.0</td>\n",
       "      <td>140.0</td>\n",
       "      <td>3449.0</td>\n",
       "      <td>10.5</td>\n",
       "      <td>70</td>\n",
       "      <td>1</td>\n",
       "    </tr>\n",
       "  </tbody>\n",
       "</table>\n",
       "</div>"
      ],
      "text/plain": [
       "    MPG  Cylinders  Displacement  Horsepower  Weight  Acceleration  \\\n",
       "0  18.0          8         307.0       130.0  3504.0          12.0   \n",
       "1  15.0          8         350.0       165.0  3693.0          11.5   \n",
       "2  18.0          8         318.0       150.0  3436.0          11.0   \n",
       "3  16.0          8         304.0       150.0  3433.0          12.0   \n",
       "4  17.0          8         302.0       140.0  3449.0          10.5   \n",
       "\n",
       "   Model Year  Origin  \n",
       "0          70       1  \n",
       "1          70       1  \n",
       "2          70       1  \n",
       "3          70       1  \n",
       "4          70       1  "
      ]
     },
     "execution_count": 31,
     "metadata": {},
     "output_type": "execute_result"
    }
   ],
   "source": [
    "car_MPG.head()"
   ]
  },
  {
   "cell_type": "code",
   "execution_count": 32,
   "id": "799fe12e",
   "metadata": {},
   "outputs": [],
   "source": [
    "df = pd.DataFrame(data=car_MPG, columns=car_MPG.columns)"
   ]
  },
  {
   "cell_type": "code",
   "execution_count": 33,
   "id": "a19aeff1",
   "metadata": {},
   "outputs": [
    {
     "data": {
      "text/html": [
       "<div>\n",
       "<style scoped>\n",
       "    .dataframe tbody tr th:only-of-type {\n",
       "        vertical-align: middle;\n",
       "    }\n",
       "\n",
       "    .dataframe tbody tr th {\n",
       "        vertical-align: top;\n",
       "    }\n",
       "\n",
       "    .dataframe thead th {\n",
       "        text-align: right;\n",
       "    }\n",
       "</style>\n",
       "<table border=\"1\" class=\"dataframe\">\n",
       "  <thead>\n",
       "    <tr style=\"text-align: right;\">\n",
       "      <th></th>\n",
       "      <th>MPG</th>\n",
       "      <th>Cylinders</th>\n",
       "      <th>Displacement</th>\n",
       "      <th>Horsepower</th>\n",
       "      <th>Weight</th>\n",
       "      <th>Acceleration</th>\n",
       "      <th>Model Year</th>\n",
       "      <th>Origin</th>\n",
       "    </tr>\n",
       "  </thead>\n",
       "  <tbody>\n",
       "    <tr>\n",
       "      <th>0</th>\n",
       "      <td>18.0</td>\n",
       "      <td>8</td>\n",
       "      <td>307.0</td>\n",
       "      <td>130.0</td>\n",
       "      <td>3504.0</td>\n",
       "      <td>12.0</td>\n",
       "      <td>70</td>\n",
       "      <td>1</td>\n",
       "    </tr>\n",
       "    <tr>\n",
       "      <th>1</th>\n",
       "      <td>15.0</td>\n",
       "      <td>8</td>\n",
       "      <td>350.0</td>\n",
       "      <td>165.0</td>\n",
       "      <td>3693.0</td>\n",
       "      <td>11.5</td>\n",
       "      <td>70</td>\n",
       "      <td>1</td>\n",
       "    </tr>\n",
       "    <tr>\n",
       "      <th>2</th>\n",
       "      <td>18.0</td>\n",
       "      <td>8</td>\n",
       "      <td>318.0</td>\n",
       "      <td>150.0</td>\n",
       "      <td>3436.0</td>\n",
       "      <td>11.0</td>\n",
       "      <td>70</td>\n",
       "      <td>1</td>\n",
       "    </tr>\n",
       "    <tr>\n",
       "      <th>3</th>\n",
       "      <td>16.0</td>\n",
       "      <td>8</td>\n",
       "      <td>304.0</td>\n",
       "      <td>150.0</td>\n",
       "      <td>3433.0</td>\n",
       "      <td>12.0</td>\n",
       "      <td>70</td>\n",
       "      <td>1</td>\n",
       "    </tr>\n",
       "    <tr>\n",
       "      <th>4</th>\n",
       "      <td>17.0</td>\n",
       "      <td>8</td>\n",
       "      <td>302.0</td>\n",
       "      <td>140.0</td>\n",
       "      <td>3449.0</td>\n",
       "      <td>10.5</td>\n",
       "      <td>70</td>\n",
       "      <td>1</td>\n",
       "    </tr>\n",
       "  </tbody>\n",
       "</table>\n",
       "</div>"
      ],
      "text/plain": [
       "    MPG  Cylinders  Displacement  Horsepower  Weight  Acceleration  \\\n",
       "0  18.0          8         307.0       130.0  3504.0          12.0   \n",
       "1  15.0          8         350.0       165.0  3693.0          11.5   \n",
       "2  18.0          8         318.0       150.0  3436.0          11.0   \n",
       "3  16.0          8         304.0       150.0  3433.0          12.0   \n",
       "4  17.0          8         302.0       140.0  3449.0          10.5   \n",
       "\n",
       "   Model Year  Origin  \n",
       "0          70       1  \n",
       "1          70       1  \n",
       "2          70       1  \n",
       "3          70       1  \n",
       "4          70       1  "
      ]
     },
     "execution_count": 33,
     "metadata": {},
     "output_type": "execute_result"
    }
   ],
   "source": [
    "df.head()"
   ]
  },
  {
   "cell_type": "code",
   "execution_count": 34,
   "id": "076c066f",
   "metadata": {},
   "outputs": [
    {
     "data": {
      "text/plain": [
       "Index(['MPG', 'Cylinders', 'Displacement', 'Horsepower', 'Weight',\n",
       "       'Acceleration', 'Model Year', 'Origin'],\n",
       "      dtype='object')"
      ]
     },
     "execution_count": 34,
     "metadata": {},
     "output_type": "execute_result"
    }
   ],
   "source": [
    "df.columns"
   ]
  },
  {
   "cell_type": "code",
   "execution_count": 35,
   "id": "fcfac4da",
   "metadata": {},
   "outputs": [
    {
     "data": {
      "text/plain": [
       "MPG             0\n",
       "Cylinders       0\n",
       "Displacement    0\n",
       "Horsepower      6\n",
       "Weight          0\n",
       "Acceleration    0\n",
       "Model Year      0\n",
       "Origin          0\n",
       "dtype: int64"
      ]
     },
     "execution_count": 35,
     "metadata": {},
     "output_type": "execute_result"
    }
   ],
   "source": [
    "df.isna().sum()"
   ]
  },
  {
   "cell_type": "code",
   "execution_count": 36,
   "id": "1eb418bc",
   "metadata": {},
   "outputs": [],
   "source": [
    "df['Horsepower'] = df['Horsepower'].fillna(df['Horsepower'].mean())"
   ]
  },
  {
   "cell_type": "code",
   "execution_count": 37,
   "id": "69267a65",
   "metadata": {},
   "outputs": [
    {
     "data": {
      "text/plain": [
       "MPG             0\n",
       "Cylinders       0\n",
       "Displacement    0\n",
       "Horsepower      0\n",
       "Weight          0\n",
       "Acceleration    0\n",
       "Model Year      0\n",
       "Origin          0\n",
       "dtype: int64"
      ]
     },
     "execution_count": 37,
     "metadata": {},
     "output_type": "execute_result"
    }
   ],
   "source": [
    "df.isna().sum()"
   ]
  },
  {
   "cell_type": "code",
   "execution_count": 38,
   "id": "f55a577e",
   "metadata": {},
   "outputs": [
    {
     "data": {
      "text/plain": [
       "(398, 8)"
      ]
     },
     "execution_count": 38,
     "metadata": {},
     "output_type": "execute_result"
    }
   ],
   "source": [
    "df.shape"
   ]
  },
  {
   "cell_type": "code",
   "execution_count": 39,
   "id": "67462f44",
   "metadata": {},
   "outputs": [
    {
     "data": {
      "text/html": [
       "<div>\n",
       "<style scoped>\n",
       "    .dataframe tbody tr th:only-of-type {\n",
       "        vertical-align: middle;\n",
       "    }\n",
       "\n",
       "    .dataframe tbody tr th {\n",
       "        vertical-align: top;\n",
       "    }\n",
       "\n",
       "    .dataframe thead th {\n",
       "        text-align: right;\n",
       "    }\n",
       "</style>\n",
       "<table border=\"1\" class=\"dataframe\">\n",
       "  <thead>\n",
       "    <tr style=\"text-align: right;\">\n",
       "      <th></th>\n",
       "      <th>MPG</th>\n",
       "      <th>Cylinders</th>\n",
       "      <th>Displacement</th>\n",
       "      <th>Horsepower</th>\n",
       "      <th>Weight</th>\n",
       "      <th>Acceleration</th>\n",
       "      <th>Model Year</th>\n",
       "      <th>Origin</th>\n",
       "    </tr>\n",
       "  </thead>\n",
       "  <tbody>\n",
       "    <tr>\n",
       "      <th>0</th>\n",
       "      <td>18.0</td>\n",
       "      <td>8</td>\n",
       "      <td>307.0</td>\n",
       "      <td>130.0</td>\n",
       "      <td>3504.0</td>\n",
       "      <td>12.0</td>\n",
       "      <td>70</td>\n",
       "      <td>1</td>\n",
       "    </tr>\n",
       "    <tr>\n",
       "      <th>1</th>\n",
       "      <td>15.0</td>\n",
       "      <td>8</td>\n",
       "      <td>350.0</td>\n",
       "      <td>165.0</td>\n",
       "      <td>3693.0</td>\n",
       "      <td>11.5</td>\n",
       "      <td>70</td>\n",
       "      <td>1</td>\n",
       "    </tr>\n",
       "    <tr>\n",
       "      <th>2</th>\n",
       "      <td>18.0</td>\n",
       "      <td>8</td>\n",
       "      <td>318.0</td>\n",
       "      <td>150.0</td>\n",
       "      <td>3436.0</td>\n",
       "      <td>11.0</td>\n",
       "      <td>70</td>\n",
       "      <td>1</td>\n",
       "    </tr>\n",
       "    <tr>\n",
       "      <th>3</th>\n",
       "      <td>16.0</td>\n",
       "      <td>8</td>\n",
       "      <td>304.0</td>\n",
       "      <td>150.0</td>\n",
       "      <td>3433.0</td>\n",
       "      <td>12.0</td>\n",
       "      <td>70</td>\n",
       "      <td>1</td>\n",
       "    </tr>\n",
       "    <tr>\n",
       "      <th>4</th>\n",
       "      <td>17.0</td>\n",
       "      <td>8</td>\n",
       "      <td>302.0</td>\n",
       "      <td>140.0</td>\n",
       "      <td>3449.0</td>\n",
       "      <td>10.5</td>\n",
       "      <td>70</td>\n",
       "      <td>1</td>\n",
       "    </tr>\n",
       "  </tbody>\n",
       "</table>\n",
       "</div>"
      ],
      "text/plain": [
       "    MPG  Cylinders  Displacement  Horsepower  Weight  Acceleration  \\\n",
       "0  18.0          8         307.0       130.0  3504.0          12.0   \n",
       "1  15.0          8         350.0       165.0  3693.0          11.5   \n",
       "2  18.0          8         318.0       150.0  3436.0          11.0   \n",
       "3  16.0          8         304.0       150.0  3433.0          12.0   \n",
       "4  17.0          8         302.0       140.0  3449.0          10.5   \n",
       "\n",
       "   Model Year  Origin  \n",
       "0          70       1  \n",
       "1          70       1  \n",
       "2          70       1  \n",
       "3          70       1  \n",
       "4          70       1  "
      ]
     },
     "execution_count": 39,
     "metadata": {},
     "output_type": "execute_result"
    }
   ],
   "source": [
    "X=df.iloc[:, 0:8]\n",
    "X.head()"
   ]
  },
  {
   "cell_type": "code",
   "execution_count": 40,
   "id": "b1bb40c9",
   "metadata": {},
   "outputs": [
    {
     "data": {
      "text/html": [
       "<div>\n",
       "<style scoped>\n",
       "    .dataframe tbody tr th:only-of-type {\n",
       "        vertical-align: middle;\n",
       "    }\n",
       "\n",
       "    .dataframe tbody tr th {\n",
       "        vertical-align: top;\n",
       "    }\n",
       "\n",
       "    .dataframe thead th {\n",
       "        text-align: right;\n",
       "    }\n",
       "</style>\n",
       "<table border=\"1\" class=\"dataframe\">\n",
       "  <thead>\n",
       "    <tr style=\"text-align: right;\">\n",
       "      <th></th>\n",
       "      <th>Cylinders</th>\n",
       "      <th>Displacement</th>\n",
       "      <th>Horsepower</th>\n",
       "      <th>Weight</th>\n",
       "      <th>Acceleration</th>\n",
       "      <th>Model Year</th>\n",
       "      <th>Origin</th>\n",
       "    </tr>\n",
       "  </thead>\n",
       "  <tbody>\n",
       "    <tr>\n",
       "      <th>0</th>\n",
       "      <td>8</td>\n",
       "      <td>307.0</td>\n",
       "      <td>130.0</td>\n",
       "      <td>3504.0</td>\n",
       "      <td>12.0</td>\n",
       "      <td>70</td>\n",
       "      <td>1</td>\n",
       "    </tr>\n",
       "    <tr>\n",
       "      <th>1</th>\n",
       "      <td>8</td>\n",
       "      <td>350.0</td>\n",
       "      <td>165.0</td>\n",
       "      <td>3693.0</td>\n",
       "      <td>11.5</td>\n",
       "      <td>70</td>\n",
       "      <td>1</td>\n",
       "    </tr>\n",
       "    <tr>\n",
       "      <th>2</th>\n",
       "      <td>8</td>\n",
       "      <td>318.0</td>\n",
       "      <td>150.0</td>\n",
       "      <td>3436.0</td>\n",
       "      <td>11.0</td>\n",
       "      <td>70</td>\n",
       "      <td>1</td>\n",
       "    </tr>\n",
       "    <tr>\n",
       "      <th>3</th>\n",
       "      <td>8</td>\n",
       "      <td>304.0</td>\n",
       "      <td>150.0</td>\n",
       "      <td>3433.0</td>\n",
       "      <td>12.0</td>\n",
       "      <td>70</td>\n",
       "      <td>1</td>\n",
       "    </tr>\n",
       "    <tr>\n",
       "      <th>4</th>\n",
       "      <td>8</td>\n",
       "      <td>302.0</td>\n",
       "      <td>140.0</td>\n",
       "      <td>3449.0</td>\n",
       "      <td>10.5</td>\n",
       "      <td>70</td>\n",
       "      <td>1</td>\n",
       "    </tr>\n",
       "  </tbody>\n",
       "</table>\n",
       "</div>"
      ],
      "text/plain": [
       "   Cylinders  Displacement  Horsepower  Weight  Acceleration  Model Year  \\\n",
       "0          8         307.0       130.0  3504.0          12.0          70   \n",
       "1          8         350.0       165.0  3693.0          11.5          70   \n",
       "2          8         318.0       150.0  3436.0          11.0          70   \n",
       "3          8         304.0       150.0  3433.0          12.0          70   \n",
       "4          8         302.0       140.0  3449.0          10.5          70   \n",
       "\n",
       "   Origin  \n",
       "0       1  \n",
       "1       1  \n",
       "2       1  \n",
       "3       1  \n",
       "4       1  "
      ]
     },
     "execution_count": 40,
     "metadata": {},
     "output_type": "execute_result"
    }
   ],
   "source": [
    "X=df.drop('MPG', axis=1)\n",
    "X.head()"
   ]
  },
  {
   "cell_type": "code",
   "execution_count": 41,
   "id": "a02ffd82",
   "metadata": {},
   "outputs": [
    {
     "data": {
      "text/plain": [
       "0    18.0\n",
       "1    15.0\n",
       "2    18.0\n",
       "3    16.0\n",
       "4    17.0\n",
       "Name: MPG, dtype: float64"
      ]
     },
     "execution_count": 41,
     "metadata": {},
     "output_type": "execute_result"
    }
   ],
   "source": [
    "y=df.iloc[:, 0]\n",
    "y.head()"
   ]
  },
  {
   "cell_type": "code",
   "execution_count": 42,
   "id": "e17747f8",
   "metadata": {},
   "outputs": [],
   "source": [
    "X = X.to_numpy()"
   ]
  },
  {
   "cell_type": "code",
   "execution_count": 43,
   "id": "95e276fb",
   "metadata": {},
   "outputs": [],
   "source": [
    "n_features = 1\n",
    "X = X.reshape((X.shape[0], X.shape[1], n_features))"
   ]
  },
  {
   "cell_type": "code",
   "execution_count": 46,
   "id": "3beeef7a",
   "metadata": {},
   "outputs": [
    {
     "data": {
      "text/plain": [
       "(398, 7, 1)"
      ]
     },
     "execution_count": 46,
     "metadata": {},
     "output_type": "execute_result"
    }
   ],
   "source": [
    "X.shape"
   ]
  },
  {
   "cell_type": "code",
   "execution_count": 47,
   "id": "7d443ced",
   "metadata": {},
   "outputs": [],
   "source": [
    "from sklearn.model_selection import train_test_split\n",
    "X_train,X_test, y_train,y_test = train_test_split(X,y,test_size=0.2,random_state=0) "
   ]
  },
  {
   "cell_type": "code",
   "execution_count": 48,
   "id": "5eaf4a0e",
   "metadata": {},
   "outputs": [
    {
     "data": {
      "text/plain": [
       "7"
      ]
     },
     "execution_count": 48,
     "metadata": {},
     "output_type": "execute_result"
    }
   ],
   "source": [
    "n_steps = X.shape[1]\n",
    "n_steps"
   ]
  },
  {
   "cell_type": "code",
   "execution_count": 50,
   "id": "25f0b2eb",
   "metadata": {},
   "outputs": [
    {
     "name": "stdout",
     "output_type": "stream",
     "text": [
      "input_shape =>  7 1\n",
      "Model: \"sequential_1\"\n",
      "_________________________________________________________________\n",
      " Layer (type)                Output Shape              Param #   \n",
      "=================================================================\n",
      " conv1d_1 (Conv1D)           (None, 6, 64)             192       \n",
      "                                                                 \n",
      " max_pooling1d_1 (MaxPooling  (None, 3, 64)            0         \n",
      " 1D)                                                             \n",
      "                                                                 \n",
      " flatten_1 (Flatten)         (None, 192)               0         \n",
      "                                                                 \n",
      " dense_3 (Dense)             (None, 50)                9650      \n",
      "                                                                 \n",
      " dense_4 (Dense)             (None, 50)                2550      \n",
      "                                                                 \n",
      " dense_5 (Dense)             (None, 1)                 51        \n",
      "                                                                 \n",
      "=================================================================\n",
      "Total params: 12,443\n",
      "Trainable params: 12,443\n",
      "Non-trainable params: 0\n",
      "_________________________________________________________________\n"
     ]
    }
   ],
   "source": [
    "from keras.models import Sequential\n",
    "from keras.layers import Dense\n",
    "from keras.layers import Flatten\n",
    "from keras.layers.convolutional import Conv1D\n",
    "from keras.layers.convolutional import MaxPooling1D\n",
    "from keras.optimizers import Adam\n",
    "\n",
    "def build_model(): \n",
    "    model = Sequential()\n",
    "    model.add(Conv1D(filters=64, kernel_size=2, activation='relu', input_shape=(n_steps, n_features)))\n",
    "    model.add(MaxPooling1D(pool_size=2))\n",
    "    model.add(Flatten())\n",
    "    model.add(Dense(50, activation='relu'))\n",
    "    model.add(Dense(50, activation='relu'))\n",
    "    model.add(Dense(1))\n",
    "    model.compile(loss='mse', optimizer='rmsprop', metrics=['mse'])\n",
    "    \n",
    "    return model\n",
    "\n",
    "model = build_model() \n",
    "print(\"input_shape => \", n_steps, n_features)\n",
    "model.summary()"
   ]
  },
  {
   "cell_type": "code",
   "execution_count": 51,
   "id": "4ace74ff",
   "metadata": {
    "scrolled": false
   },
   "outputs": [
    {
     "name": "stdout",
     "output_type": "stream",
     "text": [
      "Epoch 1/100\n",
      "10/10 [==============================] - 1s 39ms/step - loss: 14602.1035 - mse: 14602.1035 - val_loss: 180.9344 - val_mse: 180.9344\n",
      "Epoch 2/100\n",
      "10/10 [==============================] - 0s 8ms/step - loss: 167.8925 - mse: 167.8925 - val_loss: 190.7711 - val_mse: 190.7711\n",
      "Epoch 3/100\n",
      "10/10 [==============================] - 0s 7ms/step - loss: 193.2123 - mse: 193.2123 - val_loss: 586.1100 - val_mse: 586.1100\n",
      "Epoch 4/100\n",
      "10/10 [==============================] - 0s 6ms/step - loss: 1157.8401 - mse: 1157.8401 - val_loss: 398.8073 - val_mse: 398.8073\n",
      "Epoch 5/100\n",
      "10/10 [==============================] - 0s 6ms/step - loss: 432.6860 - mse: 432.6860 - val_loss: 2559.6064 - val_mse: 2559.6064\n",
      "Epoch 6/100\n",
      "10/10 [==============================] - 0s 7ms/step - loss: 820.2413 - mse: 820.2413 - val_loss: 418.6393 - val_mse: 418.6393\n",
      "Epoch 7/100\n",
      "10/10 [==============================] - 0s 8ms/step - loss: 949.3412 - mse: 949.3412 - val_loss: 185.0466 - val_mse: 185.0466\n",
      "Epoch 8/100\n",
      "10/10 [==============================] - 0s 10ms/step - loss: 619.4699 - mse: 619.4699 - val_loss: 579.7593 - val_mse: 579.7593\n",
      "Epoch 9/100\n",
      "10/10 [==============================] - 0s 7ms/step - loss: 515.1844 - mse: 515.1844 - val_loss: 670.7774 - val_mse: 670.7774\n",
      "Epoch 10/100\n",
      "10/10 [==============================] - 0s 8ms/step - loss: 652.5786 - mse: 652.5786 - val_loss: 477.9719 - val_mse: 477.9719\n",
      "Epoch 11/100\n",
      "10/10 [==============================] - 0s 8ms/step - loss: 389.9881 - mse: 389.9881 - val_loss: 581.4599 - val_mse: 581.4599\n",
      "Epoch 12/100\n",
      "10/10 [==============================] - 0s 6ms/step - loss: 597.0145 - mse: 597.0145 - val_loss: 401.4521 - val_mse: 401.4521\n",
      "Epoch 13/100\n",
      "10/10 [==============================] - 0s 7ms/step - loss: 350.4125 - mse: 350.4125 - val_loss: 683.9362 - val_mse: 683.9362\n",
      "Epoch 14/100\n",
      "10/10 [==============================] - 0s 7ms/step - loss: 479.4948 - mse: 479.4948 - val_loss: 623.8815 - val_mse: 623.8815\n",
      "Epoch 15/100\n",
      "10/10 [==============================] - 0s 7ms/step - loss: 307.7454 - mse: 307.7454 - val_loss: 114.5011 - val_mse: 114.5011\n",
      "Epoch 16/100\n",
      "10/10 [==============================] - 0s 8ms/step - loss: 450.8952 - mse: 450.8952 - val_loss: 134.4778 - val_mse: 134.4778\n",
      "Epoch 17/100\n",
      "10/10 [==============================] - 0s 8ms/step - loss: 182.5057 - mse: 182.5057 - val_loss: 525.9622 - val_mse: 525.9622\n",
      "Epoch 18/100\n",
      "10/10 [==============================] - 0s 7ms/step - loss: 366.6643 - mse: 366.6643 - val_loss: 98.5161 - val_mse: 98.5161\n",
      "Epoch 19/100\n",
      "10/10 [==============================] - 0s 7ms/step - loss: 199.6996 - mse: 199.6996 - val_loss: 183.2074 - val_mse: 183.2074\n",
      "Epoch 20/100\n",
      "10/10 [==============================] - 0s 6ms/step - loss: 251.7553 - mse: 251.7553 - val_loss: 187.9712 - val_mse: 187.9712\n",
      "Epoch 21/100\n",
      "10/10 [==============================] - 0s 7ms/step - loss: 221.3315 - mse: 221.3315 - val_loss: 342.6808 - val_mse: 342.6808\n",
      "Epoch 22/100\n",
      "10/10 [==============================] - 0s 10ms/step - loss: 267.4365 - mse: 267.4365 - val_loss: 460.8297 - val_mse: 460.8297\n",
      "Epoch 23/100\n",
      "10/10 [==============================] - 0s 7ms/step - loss: 153.1090 - mse: 153.1090 - val_loss: 424.4820 - val_mse: 424.4820\n",
      "Epoch 24/100\n",
      "10/10 [==============================] - 0s 7ms/step - loss: 234.1979 - mse: 234.1979 - val_loss: 53.9540 - val_mse: 53.9540\n",
      "Epoch 25/100\n",
      "10/10 [==============================] - 0s 7ms/step - loss: 112.4365 - mse: 112.4365 - val_loss: 350.0098 - val_mse: 350.0098\n",
      "Epoch 26/100\n",
      "10/10 [==============================] - 0s 8ms/step - loss: 200.2120 - mse: 200.2120 - val_loss: 166.5793 - val_mse: 166.5793\n",
      "Epoch 27/100\n",
      "10/10 [==============================] - 0s 7ms/step - loss: 221.7594 - mse: 221.7594 - val_loss: 69.5679 - val_mse: 69.5679\n",
      "Epoch 28/100\n",
      "10/10 [==============================] - 0s 7ms/step - loss: 171.2905 - mse: 171.2905 - val_loss: 104.3404 - val_mse: 104.3404\n",
      "Epoch 29/100\n",
      "10/10 [==============================] - 0s 6ms/step - loss: 108.9194 - mse: 108.9194 - val_loss: 88.1977 - val_mse: 88.1977\n",
      "Epoch 30/100\n",
      "10/10 [==============================] - 0s 7ms/step - loss: 125.9749 - mse: 125.9749 - val_loss: 102.1702 - val_mse: 102.1702\n",
      "Epoch 31/100\n",
      "10/10 [==============================] - 0s 7ms/step - loss: 139.5899 - mse: 139.5899 - val_loss: 140.7081 - val_mse: 140.7081\n",
      "Epoch 32/100\n",
      "10/10 [==============================] - 0s 8ms/step - loss: 134.6248 - mse: 134.6248 - val_loss: 276.9398 - val_mse: 276.9398\n",
      "Epoch 33/100\n",
      "10/10 [==============================] - 0s 8ms/step - loss: 105.5883 - mse: 105.5883 - val_loss: 127.8539 - val_mse: 127.8539\n",
      "Epoch 34/100\n",
      "10/10 [==============================] - 0s 7ms/step - loss: 103.3897 - mse: 103.3897 - val_loss: 73.4494 - val_mse: 73.4494\n",
      "Epoch 35/100\n",
      "10/10 [==============================] - 0s 7ms/step - loss: 86.5848 - mse: 86.5848 - val_loss: 143.5471 - val_mse: 143.5471\n",
      "Epoch 36/100\n",
      "10/10 [==============================] - 0s 9ms/step - loss: 107.6098 - mse: 107.6098 - val_loss: 106.0561 - val_mse: 106.0561\n",
      "Epoch 37/100\n",
      "10/10 [==============================] - 0s 7ms/step - loss: 116.1601 - mse: 116.1601 - val_loss: 52.8673 - val_mse: 52.8673\n",
      "Epoch 38/100\n",
      "10/10 [==============================] - 0s 6ms/step - loss: 70.1968 - mse: 70.1968 - val_loss: 96.3233 - val_mse: 96.3233\n",
      "Epoch 39/100\n",
      "10/10 [==============================] - 0s 6ms/step - loss: 105.7704 - mse: 105.7704 - val_loss: 59.6979 - val_mse: 59.6979\n",
      "Epoch 40/100\n",
      "10/10 [==============================] - 0s 7ms/step - loss: 67.6715 - mse: 67.6715 - val_loss: 61.7316 - val_mse: 61.7316\n",
      "Epoch 41/100\n",
      "10/10 [==============================] - 0s 6ms/step - loss: 107.6480 - mse: 107.6480 - val_loss: 90.8275 - val_mse: 90.8275\n",
      "Epoch 42/100\n",
      "10/10 [==============================] - 0s 6ms/step - loss: 64.5311 - mse: 64.5311 - val_loss: 44.3733 - val_mse: 44.3733\n",
      "Epoch 43/100\n",
      "10/10 [==============================] - 0s 6ms/step - loss: 74.8913 - mse: 74.8913 - val_loss: 35.1739 - val_mse: 35.1739\n",
      "Epoch 44/100\n",
      "10/10 [==============================] - 0s 6ms/step - loss: 91.7935 - mse: 91.7935 - val_loss: 52.8340 - val_mse: 52.8340\n",
      "Epoch 45/100\n",
      "10/10 [==============================] - 0s 7ms/step - loss: 56.2934 - mse: 56.2934 - val_loss: 57.3710 - val_mse: 57.3710\n",
      "Epoch 46/100\n",
      "10/10 [==============================] - 0s 6ms/step - loss: 72.8314 - mse: 72.8314 - val_loss: 169.4969 - val_mse: 169.4969\n",
      "Epoch 47/100\n",
      "10/10 [==============================] - 0s 6ms/step - loss: 70.3375 - mse: 70.3375 - val_loss: 102.9591 - val_mse: 102.9591\n",
      "Epoch 48/100\n",
      "10/10 [==============================] - 0s 6ms/step - loss: 82.6902 - mse: 82.6902 - val_loss: 73.3453 - val_mse: 73.3453\n",
      "Epoch 49/100\n",
      "10/10 [==============================] - 0s 6ms/step - loss: 59.4608 - mse: 59.4608 - val_loss: 36.7368 - val_mse: 36.7368\n",
      "Epoch 50/100\n",
      "10/10 [==============================] - 0s 6ms/step - loss: 84.5426 - mse: 84.5426 - val_loss: 62.7375 - val_mse: 62.7375\n",
      "Epoch 51/100\n",
      "10/10 [==============================] - 0s 7ms/step - loss: 62.0138 - mse: 62.0138 - val_loss: 37.8532 - val_mse: 37.8532\n",
      "Epoch 52/100\n",
      "10/10 [==============================] - 0s 6ms/step - loss: 92.6559 - mse: 92.6559 - val_loss: 29.3425 - val_mse: 29.3425\n",
      "Epoch 53/100\n",
      "10/10 [==============================] - 0s 7ms/step - loss: 55.6611 - mse: 55.6611 - val_loss: 44.7753 - val_mse: 44.7753\n",
      "Epoch 54/100\n",
      "10/10 [==============================] - 0s 8ms/step - loss: 63.2537 - mse: 63.2537 - val_loss: 125.0489 - val_mse: 125.0489\n",
      "Epoch 55/100\n",
      "10/10 [==============================] - 0s 8ms/step - loss: 69.1414 - mse: 69.1414 - val_loss: 126.4762 - val_mse: 126.4762\n",
      "Epoch 56/100\n",
      "10/10 [==============================] - 0s 8ms/step - loss: 74.1409 - mse: 74.1409 - val_loss: 33.9241 - val_mse: 33.9241\n",
      "Epoch 57/100\n",
      "10/10 [==============================] - 0s 6ms/step - loss: 54.0536 - mse: 54.0536 - val_loss: 67.8783 - val_mse: 67.8783\n",
      "Epoch 58/100\n",
      "10/10 [==============================] - 0s 7ms/step - loss: 63.2222 - mse: 63.2222 - val_loss: 29.0136 - val_mse: 29.0136\n",
      "Epoch 59/100\n",
      "10/10 [==============================] - 0s 7ms/step - loss: 57.9091 - mse: 57.9091 - val_loss: 33.7100 - val_mse: 33.7100\n",
      "Epoch 60/100\n",
      "10/10 [==============================] - 0s 7ms/step - loss: 60.8056 - mse: 60.8056 - val_loss: 64.7335 - val_mse: 64.7335\n",
      "Epoch 61/100\n",
      "10/10 [==============================] - 0s 6ms/step - loss: 55.3747 - mse: 55.3747 - val_loss: 58.0255 - val_mse: 58.0255\n",
      "Epoch 62/100\n",
      "10/10 [==============================] - 0s 6ms/step - loss: 58.3305 - mse: 58.3305 - val_loss: 54.9742 - val_mse: 54.9742\n",
      "Epoch 63/100\n",
      "10/10 [==============================] - 0s 7ms/step - loss: 57.4331 - mse: 57.4331 - val_loss: 41.2236 - val_mse: 41.2236\n",
      "Epoch 64/100\n",
      "10/10 [==============================] - 0s 8ms/step - loss: 72.0088 - mse: 72.0088 - val_loss: 160.7777 - val_mse: 160.7777\n",
      "Epoch 65/100\n",
      "10/10 [==============================] - 0s 7ms/step - loss: 85.2513 - mse: 85.2513 - val_loss: 25.2347 - val_mse: 25.2347\n",
      "Epoch 66/100\n",
      "10/10 [==============================] - 0s 6ms/step - loss: 36.2275 - mse: 36.2275 - val_loss: 34.0348 - val_mse: 34.0348\n",
      "Epoch 67/100\n",
      "10/10 [==============================] - 0s 6ms/step - loss: 62.8045 - mse: 62.8045 - val_loss: 27.2017 - val_mse: 27.2017\n",
      "Epoch 68/100\n",
      "10/10 [==============================] - 0s 6ms/step - loss: 45.5611 - mse: 45.5611 - val_loss: 31.6812 - val_mse: 31.6812\n",
      "Epoch 69/100\n",
      "10/10 [==============================] - 0s 7ms/step - loss: 69.6607 - mse: 69.6607 - val_loss: 39.1691 - val_mse: 39.1691\n",
      "Epoch 70/100\n",
      "10/10 [==============================] - 0s 6ms/step - loss: 47.5859 - mse: 47.5859 - val_loss: 28.4945 - val_mse: 28.4945\n",
      "Epoch 71/100\n",
      "10/10 [==============================] - 0s 6ms/step - loss: 60.1475 - mse: 60.1475 - val_loss: 25.2662 - val_mse: 25.2662\n",
      "Epoch 72/100\n",
      "10/10 [==============================] - 0s 7ms/step - loss: 59.6303 - mse: 59.6303 - val_loss: 27.4608 - val_mse: 27.4608\n",
      "Epoch 73/100\n",
      "10/10 [==============================] - 0s 7ms/step - loss: 64.2805 - mse: 64.2805 - val_loss: 33.3430 - val_mse: 33.3430\n",
      "Epoch 74/100\n",
      "10/10 [==============================] - 0s 7ms/step - loss: 36.5518 - mse: 36.5518 - val_loss: 34.3814 - val_mse: 34.3814\n",
      "Epoch 75/100\n",
      "10/10 [==============================] - 0s 6ms/step - loss: 62.2634 - mse: 62.2634 - val_loss: 32.9304 - val_mse: 32.9304\n",
      "Epoch 76/100\n",
      "10/10 [==============================] - 0s 6ms/step - loss: 42.5851 - mse: 42.5851 - val_loss: 23.6299 - val_mse: 23.6299\n",
      "Epoch 77/100\n",
      "10/10 [==============================] - 0s 6ms/step - loss: 57.3270 - mse: 57.3270 - val_loss: 43.0242 - val_mse: 43.0242\n",
      "Epoch 78/100\n",
      "10/10 [==============================] - 0s 7ms/step - loss: 53.6204 - mse: 53.6204 - val_loss: 29.6952 - val_mse: 29.6952\n",
      "Epoch 79/100\n",
      "10/10 [==============================] - 0s 7ms/step - loss: 53.8047 - mse: 53.8047 - val_loss: 29.7288 - val_mse: 29.7288\n",
      "Epoch 80/100\n",
      "10/10 [==============================] - 0s 6ms/step - loss: 47.8516 - mse: 47.8516 - val_loss: 61.5409 - val_mse: 61.5409\n",
      "Epoch 81/100\n",
      "10/10 [==============================] - 0s 6ms/step - loss: 44.5340 - mse: 44.5340 - val_loss: 25.9064 - val_mse: 25.9064\n",
      "Epoch 82/100\n",
      "10/10 [==============================] - 0s 6ms/step - loss: 51.0741 - mse: 51.0741 - val_loss: 38.5349 - val_mse: 38.5349\n",
      "Epoch 83/100\n",
      "10/10 [==============================] - 0s 8ms/step - loss: 60.6631 - mse: 60.6631 - val_loss: 54.3166 - val_mse: 54.3166\n",
      "Epoch 84/100\n",
      "10/10 [==============================] - 0s 6ms/step - loss: 35.8644 - mse: 35.8644 - val_loss: 87.8372 - val_mse: 87.8372\n",
      "Epoch 85/100\n",
      "10/10 [==============================] - 0s 7ms/step - loss: 52.2363 - mse: 52.2363 - val_loss: 26.0645 - val_mse: 26.0645\n",
      "Epoch 86/100\n",
      "10/10 [==============================] - 0s 6ms/step - loss: 51.3517 - mse: 51.3517 - val_loss: 23.2142 - val_mse: 23.2142\n",
      "Epoch 87/100\n",
      "10/10 [==============================] - 0s 6ms/step - loss: 85.5752 - mse: 85.5752 - val_loss: 43.9579 - val_mse: 43.9579\n",
      "Epoch 88/100\n",
      "10/10 [==============================] - 0s 6ms/step - loss: 29.1632 - mse: 29.1632 - val_loss: 21.9859 - val_mse: 21.9859\n",
      "Epoch 89/100\n",
      "10/10 [==============================] - 0s 6ms/step - loss: 42.1137 - mse: 42.1137 - val_loss: 31.7041 - val_mse: 31.7041\n",
      "Epoch 90/100\n",
      "10/10 [==============================] - 0s 6ms/step - loss: 43.7081 - mse: 43.7081 - val_loss: 25.4002 - val_mse: 25.4002\n",
      "Epoch 91/100\n",
      "10/10 [==============================] - 0s 6ms/step - loss: 51.2269 - mse: 51.2269 - val_loss: 45.0539 - val_mse: 45.0539\n",
      "Epoch 92/100\n",
      "10/10 [==============================] - 0s 6ms/step - loss: 40.8466 - mse: 40.8466 - val_loss: 73.7139 - val_mse: 73.7139\n",
      "Epoch 93/100\n",
      "10/10 [==============================] - 0s 6ms/step - loss: 53.8434 - mse: 53.8434 - val_loss: 20.7583 - val_mse: 20.7583\n",
      "Epoch 94/100\n",
      "10/10 [==============================] - 0s 6ms/step - loss: 46.0595 - mse: 46.0595 - val_loss: 25.2556 - val_mse: 25.2556\n",
      "Epoch 95/100\n",
      "10/10 [==============================] - 0s 6ms/step - loss: 44.4041 - mse: 44.4041 - val_loss: 24.3605 - val_mse: 24.3605\n",
      "Epoch 96/100\n",
      "10/10 [==============================] - 0s 9ms/step - loss: 44.4716 - mse: 44.4716 - val_loss: 127.2925 - val_mse: 127.2925\n",
      "Epoch 97/100\n",
      "10/10 [==============================] - 0s 6ms/step - loss: 46.4162 - mse: 46.4162 - val_loss: 31.9729 - val_mse: 31.9729\n",
      "Epoch 98/100\n",
      "10/10 [==============================] - 0s 6ms/step - loss: 40.4909 - mse: 40.4909 - val_loss: 42.5751 - val_mse: 42.5751\n",
      "Epoch 99/100\n",
      "10/10 [==============================] - 0s 6ms/step - loss: 44.9866 - mse: 44.9866 - val_loss: 36.9548 - val_mse: 36.9548\n",
      "Epoch 100/100\n",
      "10/10 [==============================] - 0s 6ms/step - loss: 63.5272 - mse: 63.5272 - val_loss: 29.1059 - val_mse: 29.1059\n"
     ]
    }
   ],
   "source": [
    "N_EPOCHS = 100\n",
    "history = model.fit(X_train, y_train, epochs = N_EPOCHS, validation_data=(X_test, y_test))"
   ]
  },
  {
   "cell_type": "code",
   "execution_count": 52,
   "id": "774e954c",
   "metadata": {},
   "outputs": [
    {
     "name": "stdout",
     "output_type": "stream",
     "text": [
      "3/3 [==============================] - 0s 4ms/step - loss: 29.1059 - mse: 29.1059\n"
     ]
    },
    {
     "data": {
      "text/plain": [
       "[29.10586166381836, 29.10586166381836]"
      ]
     },
     "execution_count": 52,
     "metadata": {},
     "output_type": "execute_result"
    }
   ],
   "source": [
    "model.evaluate(X_test, y_test)"
   ]
  },
  {
   "cell_type": "code",
   "execution_count": 53,
   "id": "633e42a5",
   "metadata": {},
   "outputs": [
    {
     "data": {
      "image/png": "[encoded data removed]",
      "text/plain": [
       "<Figure size 1000x700 with 1 Axes>"
      ]
     },
     "metadata": {},
     "output_type": "display_data"
    }
   ],
   "source": [
    "# loss 체크\n",
    "import matplotlib.pyplot as plt\n",
    "plt.figure(figsize=(10,7))\n",
    "plt.plot(range(N_EPOCHS), history.history['loss'], label='train loss')\n",
    "plt.plot(range(N_EPOCHS), history.history['val_loss'], label='test loss')\n",
    "plt.xlabel('Epoch')\n",
    "plt.ylabel('Loss')\n",
    "plt.legend()\n",
    "plt.show()"
   ]
  },
  {
   "cell_type": "code",
   "execution_count": 54,
   "id": "a9fa5c26",
   "metadata": {},
   "outputs": [
    {
     "data": {
      "image/png": "[encoded data removed]",
      "text/plain": [
       "<Figure size 1000x700 with 1 Axes>"
      ]
     },
     "metadata": {},
     "output_type": "display_data"
    }
   ],
   "source": [
    "# loss 체크\n",
    "import matplotlib.pyplot as plt\n",
    "plt.figure(figsize=(10,7))\n",
    "plt.plot(range(N_EPOCHS), history.history['mse'], label='mse')\n",
    "plt.plot(range(N_EPOCHS), history.history['val_mse'], label='test mse')\n",
    "plt.xlabel('Epoch')\n",
    "plt.ylabel('Loss')\n",
    "plt.legend()\n",
    "plt.show()"
   ]
  },
  {
   "cell_type": "code",
   "execution_count": null,
   "id": "eb5d34e5",
   "metadata": {},
   "outputs": [],
   "source": []
  }
 ],
 "metadata": {
  "kernelspec": {
   "display_name": "Python 3 (ipykernel)",
   "language": "python",
   "name": "python3"
  },
  "language_info": {
   "codemirror_mode": {
    "name": "ipython",
    "version": 3
   },
   "file_extension": ".py",
   "mimetype": "text/x-python",
   "name": "python",
   "nbconvert_exporter": "python",
   "pygments_lexer": "ipython3",
   "version": "3.10.9"
  }
 },
 "nbformat": 4,
 "nbformat_minor": 5
}
